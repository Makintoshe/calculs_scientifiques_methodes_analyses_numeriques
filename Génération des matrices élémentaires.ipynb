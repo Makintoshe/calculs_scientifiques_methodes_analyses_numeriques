{
 "cells": [
  {
   "cell_type": "markdown",
   "metadata": {},
   "source": [
    "# TP sur la génération des matrices élémentaires"
   ]
  },
  {
   "cell_type": "markdown",
   "metadata": {},
   "source": [
    "I . Nous proposons dans le code qui suit une construction progressive d'une focntion qui se permet de décomposer une matrice de taille nxn en Diagonale D, Triangulaire supérieur U et, en triangulaire inférieur L. Nous tenons aussi à préciser que puisque nous ne traitons ici que les systèmes linéaires, nos matrices seront dites matrices carrées (n x n)."
   ]
  },
  {
   "cell_type": "code",
   "execution_count": 3,
   "metadata": {
    "collapsed": true
   },
   "outputs": [],
   "source": [
    "import numpy as np"
   ]
  },
  {
   "cell_type": "code",
   "execution_count": 14,
   "metadata": {
    "collapsed": true
   },
   "outputs": [],
   "source": [
    "def decompositionLDU(A):\n",
    "    A=np.array(A)\n",
    "    n=len(A)\n",
    "    if len(A[0])!=n:\n",
    "        raise Exception('La matrice n`est pas n x n')    \n",
    "    print(\">>>>>>>>>>La matrice A de dimension \" + str(n) + \" est :\" )\n",
    "    print(A)\n",
    "    "
   ]
  },
  {
   "cell_type": "code",
   "execution_count": 15,
   "metadata": {},
   "outputs": [
    {
     "name": "stdout",
     "output_type": "stream",
     "text": [
      ">>>>>>>>>>La matrice A de dimension 3 est :\n",
      "[[3 1 2]\n",
      " [1 2 3]\n",
      " [2 3 1]]\n",
      "10000000 loops, best of 3: 19.6 ns per loop\n"
     ]
    }
   ],
   "source": [
    "A=([[3,1,2],[1,2,3],[2,3,1]])\n",
    "decompositionLDU(A)\n",
    "%timeit() "
   ]
  },
  {
   "cell_type": "markdown",
   "metadata": {
    "collapsed": true
   },
   "source": [
    "***************************************************************\n",
    "Nous savons que A = L+D+U, trouvons la matrice Diagonale D de A :\n",
    "***************************************************************"
   ]
  },
  {
   "cell_type": "code",
   "execution_count": 16,
   "metadata": {
    "collapsed": true
   },
   "outputs": [],
   "source": [
    "def decompositionLDU(A):\n",
    "    A=np.array(A)\n",
    "    n=len(A)\n",
    "    if len(A[0])!=n:\n",
    "        raise Exception('La matrice n`est pas n x n') \n",
    "    print(\">>>>>>>>>>La matrice A de dimension \" + str(n) + \" est :\" )\n",
    "    print(A)\n",
    "    D=A*np.eye(n)\n",
    "    D=np.array(D)\n",
    "    print(\">>>>>>>>>>La matrice Diagonale D est : \")\n",
    "    print(D)\n"
   ]
  },
  {
   "cell_type": "code",
   "execution_count": 17,
   "metadata": {},
   "outputs": [
    {
     "name": "stdout",
     "output_type": "stream",
     "text": [
      ">>>>>>>>>>La matrice A de dimension 3 est :\n",
      "[[3 1 2]\n",
      " [1 2 3]\n",
      " [2 3 1]]\n",
      ">>>>>>>>>>La matrice Diagonale D est : \n",
      "[[ 3.  0.  0.]\n",
      " [ 0.  2.  0.]\n",
      " [ 0.  0.  1.]]\n",
      "10000000 loops, best of 3: 19.4 ns per loop\n"
     ]
    }
   ],
   "source": [
    "A=([[3,1,2],[1,2,3],[2,3,1]])\n",
    "decompositionLDU(A)\n",
    "%timeit() "
   ]
  },
  {
   "cell_type": "markdown",
   "metadata": {},
   "source": [
    "*****************\n",
    "Maintenons nous pouvons trouver la matricie triangulaire inférieur L de A en partant de D:\n",
    "**********"
   ]
  },
  {
   "cell_type": "code",
   "execution_count": 18,
   "metadata": {
    "collapsed": true
   },
   "outputs": [],
   "source": [
    "def decompositionLDU(A):\n",
    "    A=np.array(A)\n",
    "    n=len(A)\n",
    "    if len(A[0])!=n:\n",
    "        raise Exception('La matrice n`est pas n x n') \n",
    "    print(\">>>>>>>>>>La matrice A de dimension \" + str(n) + \" est :\" )\n",
    "    print(A)\n",
    "    D=A*np.eye(n)\n",
    "    D=np.array(D)\n",
    "    print(\">>>>>>>>>>La matrice Diagonale D est : \")\n",
    "    print(D)    \n",
    "    L=np.tril(A)-D\n",
    "    print(\">>>>>>>>>>La matrice Triangulaire inférieur L est : \")\n",
    "    print(L)\n"
   ]
  },
  {
   "cell_type": "code",
   "execution_count": 19,
   "metadata": {},
   "outputs": [
    {
     "name": "stdout",
     "output_type": "stream",
     "text": [
      ">>>>>>>>>>La matrice A de dimension 3 est :\n",
      "[[3 1 2]\n",
      " [1 2 3]\n",
      " [2 3 1]]\n",
      ">>>>>>>>>>La matrice Diagonale D est : \n",
      "[[ 3.  0.  0.]\n",
      " [ 0.  2.  0.]\n",
      " [ 0.  0.  1.]]\n",
      ">>>>>>>>>>La matrice Triangulaire inférieur L est : \n",
      "[[ 0.  0.  0.]\n",
      " [ 1.  0.  0.]\n",
      " [ 2.  3.  0.]]\n",
      "10000000 loops, best of 3: 19.6 ns per loop\n"
     ]
    }
   ],
   "source": [
    "A=([[3,1,2],[1,2,3],[2,3,1]])\n",
    "decompositionLDU(A)\n",
    "%timeit() "
   ]
  },
  {
   "cell_type": "markdown",
   "metadata": {},
   "source": [
    "******************************************************************************\n",
    "Nous pouvons à présent trouver la matrice triangulaire supérieur U de 2 façons :\n",
    "******************************************************************************"
   ]
  },
  {
   "cell_type": "markdown",
   "metadata": {},
   "source": [
    "1) D'abord en partant de D"
   ]
  },
  {
   "cell_type": "code",
   "execution_count": 20,
   "metadata": {
    "collapsed": true
   },
   "outputs": [],
   "source": [
    "def decompositionLDU(A):\n",
    "    A=np.array(A)\n",
    "    n=len(A)\n",
    "    if len(A[0])!=n:\n",
    "        raise Exception('La matrice n`est pas n x n') \n",
    "    print(\">>>>>>>>>>La matrice A de dimension \" + str(n) + \" est :\" )\n",
    "    print(A)\n",
    "    D=A*np.eye(n)\n",
    "    D=np.array(D)\n",
    "    print(\">>>>>>>>>>La matrice Diagonale D est : \")\n",
    "    print(D)    \n",
    "    L=np.tril(A)-D\n",
    "    print(\">>>>>>>>>>La matrice Triangulaire inférieur L est : \")\n",
    "    print(L)\n",
    "    U=np.triu(A)-D\n",
    "    print(\">>>>>>>>>>La matrice Triangulaire supérieur U est : \")\n",
    "    print(U)"
   ]
  },
  {
   "cell_type": "code",
   "execution_count": 21,
   "metadata": {},
   "outputs": [
    {
     "name": "stdout",
     "output_type": "stream",
     "text": [
      ">>>>>>>>>>La matrice A de dimension 3 est :\n",
      "[[3 1 2]\n",
      " [1 2 3]\n",
      " [2 3 1]]\n",
      ">>>>>>>>>>La matrice Diagonale D est : \n",
      "[[ 3.  0.  0.]\n",
      " [ 0.  2.  0.]\n",
      " [ 0.  0.  1.]]\n",
      ">>>>>>>>>>La matrice Triangulaire inférieur L est : \n",
      "[[ 0.  0.  0.]\n",
      " [ 1.  0.  0.]\n",
      " [ 2.  3.  0.]]\n",
      ">>>>>>>>>>La matrice Triangulaire supérieur U est : \n",
      "[[ 0.  1.  2.]\n",
      " [ 0.  0.  3.]\n",
      " [ 0.  0.  0.]]\n",
      "The slowest run took 62.15 times longer than the fastest. This could mean that an intermediate result is being cached.\n",
      "10000000 loops, best of 3: 19.8 ns per loop\n"
     ]
    }
   ],
   "source": [
    "A=([[3,1,2],[1,2,3],[2,3,1]])\n",
    "decompositionLDU(A)\n",
    "%timeit() "
   ]
  },
  {
   "cell_type": "markdown",
   "metadata": {},
   "source": [
    "2) Ensuite en Tirant D de la formulee générale A=L+D+U"
   ]
  },
  {
   "cell_type": "code",
   "execution_count": 22,
   "metadata": {
    "collapsed": true
   },
   "outputs": [],
   "source": [
    "def decompositionLDU(A):\n",
    "    A=np.array(A)\n",
    "    n=len(A)\n",
    "    if len(A[0])!=n:\n",
    "        raise Exception('La matrice n`est pas n x n') \n",
    "    print(\">>>>>>>>>>La matrice A de dimension \" + str(n) + \" est :\" )\n",
    "    print(A)\n",
    "    D=A*np.eye(n)\n",
    "    D=np.array(D)\n",
    "    print(\">>>>>>>>>>La matrice Diagonale D est : \")\n",
    "    print(D)    \n",
    "    L=np.tril(A)-D\n",
    "    print(\">>>>>>>>>>La matrice Triangulaire inférieur L est : \")\n",
    "    print(L)\n",
    "    U=A-D-L\n",
    "    print(\">>>>>>>>>>La matrice Triangulaire supérieur U est : \")\n",
    "    print(U)"
   ]
  },
  {
   "cell_type": "code",
   "execution_count": 23,
   "metadata": {},
   "outputs": [
    {
     "name": "stdout",
     "output_type": "stream",
     "text": [
      ">>>>>>>>>>La matrice A de dimension 3 est :\n",
      "[[3 1 2]\n",
      " [1 2 3]\n",
      " [2 3 1]]\n",
      ">>>>>>>>>>La matrice Diagonale D est : \n",
      "[[ 3.  0.  0.]\n",
      " [ 0.  2.  0.]\n",
      " [ 0.  0.  1.]]\n",
      ">>>>>>>>>>La matrice Triangulaire inférieur L est : \n",
      "[[ 0.  0.  0.]\n",
      " [ 1.  0.  0.]\n",
      " [ 2.  3.  0.]]\n",
      ">>>>>>>>>>La matrice Triangulaire supérieur U est : \n",
      "[[ 0.  1.  2.]\n",
      " [ 0.  0.  3.]\n",
      " [ 0.  0.  0.]]\n",
      "10000000 loops, best of 3: 18.7 ns per loop\n"
     ]
    }
   ],
   "source": [
    "A=([[3,1,2],[1,2,3],[2,3,1]])\n",
    "decompositionLDU(A)\n",
    "%timeit() "
   ]
  },
  {
   "cell_type": "markdown",
   "metadata": {},
   "source": [
    "Nous pouvons ainsi constater que trouver U à partir de la formule générale semble plus rapide d'un 0.7 ns près.\n",
    "*******"
   ]
  },
  {
   "cell_type": "markdown",
   "metadata": {},
   "source": [
    "**********\n",
    "PREUVE:\n",
    "Afin de démontrer que toutes les conditions de décompositions LDU sont réunies, nous nous permettons ici de d'afficher et de compare le résultat L+D+U à A"
   ]
  },
  {
   "cell_type": "code",
   "execution_count": 24,
   "metadata": {
    "collapsed": true
   },
   "outputs": [],
   "source": [
    "def decompositionLDU(A):\n",
    "    A=np.array(A)\n",
    "    n=len(A)\n",
    "    if len(A[0])!=n:\n",
    "        raise Exception('La matrice n`est pas n x n') \n",
    "    print(\">>>>>>>>>>La matrice A de dimension \" + str(n) + \" est :\" )\n",
    "    print(A)\n",
    "    D=A*np.eye(n)\n",
    "    D=np.array(D)\n",
    "    print(\">>>>>>>>>>La matrice Diagonale D est : \")\n",
    "    print(D)    \n",
    "    L=np.tril(A)-D\n",
    "    print(\">>>>>>>>>>La matrice Triangulaire inférieur L est : \")\n",
    "    print(L)\n",
    "    U=np.triu(A)-D\n",
    "    print(\">>>>>>>>>>La matrice Triangulaire supérieur U est : \")\n",
    "    print(U)\n",
    "    B=L+D+U\n",
    "    if (B==A).all() :\n",
    "        \n",
    "        print(\">>>>>>>>>>>>>>>>>>>>>>>>>>La décomposition de A a été efectué avec succès!<<<<<<<<<<<<<<<<<<<<<<<\")\n",
    "    else:\n",
    "        print(\"Echec de décomposition\")"
   ]
  },
  {
   "cell_type": "code",
   "execution_count": 25,
   "metadata": {},
   "outputs": [
    {
     "name": "stdout",
     "output_type": "stream",
     "text": [
      ">>>>>>>>>>La matrice A de dimension 3 est :\n",
      "[[3 1 2]\n",
      " [1 2 3]\n",
      " [2 3 1]]\n",
      ">>>>>>>>>>La matrice Diagonale D est : \n",
      "[[ 3.  0.  0.]\n",
      " [ 0.  2.  0.]\n",
      " [ 0.  0.  1.]]\n",
      ">>>>>>>>>>La matrice Triangulaire inférieur L est : \n",
      "[[ 0.  0.  0.]\n",
      " [ 1.  0.  0.]\n",
      " [ 2.  3.  0.]]\n",
      ">>>>>>>>>>La matrice Triangulaire supérieur U est : \n",
      "[[ 0.  1.  2.]\n",
      " [ 0.  0.  3.]\n",
      " [ 0.  0.  0.]]\n",
      ">>>>>>>>>>>>>>>>>>>>>>>>>>La décomposition de A a été efectué avec succès!<<<<<<<<<<<<<<<<<<<<<<<\n",
      "10000000 loops, best of 3: 19.9 ns per loop\n"
     ]
    }
   ],
   "source": [
    "A=([[3,1,2],[1,2,3],[2,3,1]])\n",
    "decompositionLDU(A)\n",
    "%timeit() "
   ]
  },
  {
   "cell_type": "markdown",
   "metadata": {},
   "source": [
    "**************\n",
    "II. Produit matricielle : ci-dessous, une fonction prodmat qui se propose de calculer manuellement le produit matriciel  de deux matrice et prodmatdot avec la méthode dot"
   ]
  },
  {
   "cell_type": "code",
   "execution_count": 26,
   "metadata": {
    "collapsed": true
   },
   "outputs": [],
   "source": [
    "def prodmat(A,B):\n",
    "    A=np.array(A)\n",
    "    B=np.array(B)\n",
    "    if len(A[0])!=len(A):\n",
    "        raise Exception('La matrice A n`est pas n x n') \n",
    "    if len(B[0])!=len(B):\n",
    "        raise Exception('La matrice n`est pas n x n') \n",
    "    print(\">>>>>>>>>>La première matrice est est : \")\n",
    "    print(A)\n",
    "    print(\">>>>>>>>>>La seconde matrice est est : \")\n",
    "    print(B)\n",
    "    P=A@B\n",
    "    print(\">>>>>>>>>>Le produit matriciel A * B est : \")\n",
    "    print(P)"
   ]
  },
  {
   "cell_type": "code",
   "execution_count": 27,
   "metadata": {},
   "outputs": [
    {
     "name": "stdout",
     "output_type": "stream",
     "text": [
      ">>>>>>>>>>La première matrice est est : \n",
      "[[1 2]\n",
      " [0 3]]\n",
      ">>>>>>>>>>La seconde matrice est est : \n",
      "[[7 4]\n",
      " [2 3]]\n",
      ">>>>>>>>>>Le produit matriciel A * B est : \n",
      "[[11 10]\n",
      " [ 6  9]]\n",
      "The slowest run took 63.80 times longer than the fastest. This could mean that an intermediate result is being cached.\n",
      "100000000 loops, best of 3: 19.3 ns per loop\n"
     ]
    }
   ],
   "source": [
    "A=([[1,2],[0,3]])\n",
    "B=([[7,4],[2,3]])\n",
    "prodmat(A,B)\n",
    "%timeit()"
   ]
  },
  {
   "cell_type": "code",
   "execution_count": 28,
   "metadata": {
    "collapsed": true
   },
   "outputs": [],
   "source": [
    "def prodmatdot(A,B):\n",
    "    A=np.array(A)\n",
    "    B=np.array(B)  \n",
    "    if len(A[0])!=len(A):\n",
    "        raise Exception('La matrice A n`est pas n x n') \n",
    "    if len(B[0])!=len(B):\n",
    "        raise Exception('La matrice n`est pas n x n')\n",
    "    print(\">>>>>>>>>>La première matrice est est : \")\n",
    "    print(A)\n",
    "    print(\">>>>>>>>>>La seconde matrice est est : \")\n",
    "    print(B)\n",
    "    P=np.dot(A,B)\n",
    "    print(\">>>>>>>>>>Le produit matriciel A * B avec la méthode dot est : \")\n",
    "    print(P)"
   ]
  },
  {
   "cell_type": "code",
   "execution_count": 29,
   "metadata": {},
   "outputs": [
    {
     "name": "stdout",
     "output_type": "stream",
     "text": [
      ">>>>>>>>>>La première matrice est est : \n",
      "[[1 2]\n",
      " [0 3]]\n",
      ">>>>>>>>>>La seconde matrice est est : \n",
      "[[7 4]\n",
      " [2 3]]\n",
      ">>>>>>>>>>Le produit matriciel A * B avec la méthode dot est : \n",
      "[[11 10]\n",
      " [ 6  9]]\n",
      "100000000 loops, best of 3: 19.2 ns per loop\n"
     ]
    }
   ],
   "source": [
    "A=([[1,2],[0,3]])\n",
    "B=([[7,4],[2,3]])\n",
    "prodmatdot(A,B)\n",
    "%timeit()"
   ]
  },
  {
   "cell_type": "markdown",
   "metadata": {},
   "source": [
    "*************\n",
    "Conclusion : Alors que la méthode DOT ne prend que 18.7 ns de temps d'execution, le produit matriciel manuel met plus de temps soit 19 ns\n",
    "*******************"
   ]
  },
  {
   "cell_type": "markdown",
   "metadata": {},
   "source": [
    "*********************************\n",
    "III. Matrice de permutation : La matrice T[i,j] permettant la permutation des lignes i et j "
   ]
  },
  {
   "cell_type": "code",
   "execution_count": 30,
   "metadata": {
    "collapsed": true
   },
   "outputs": [],
   "source": [
    "def T(n,i,j):\n",
    "    if i>=n or j>=n or i<0 or j<0:\n",
    "        raise Exception('La matrice n`est pas n x n')\n",
    "    T = np.eye(n)\n",
    "    T[[j,i]]=T[[i,j]]\n",
    "    return T"
   ]
  },
  {
   "cell_type": "code",
   "execution_count": 31,
   "metadata": {},
   "outputs": [
    {
     "name": "stdout",
     "output_type": "stream",
     "text": [
      "[[ 1.  0.  0.]\n",
      " [ 0.  0.  1.]\n",
      " [ 0.  1.  0.]]\n",
      "100000000 loops, best of 3: 18.9 ns per loop\n"
     ]
    }
   ],
   "source": [
    "tab=T(3,2,1)\n",
    "print(tab)\n",
    "%timeit()"
   ]
  },
  {
   "attachments": {
    "image.png": {
     "image/png": "[encoded data removed]"
    }
   },
   "cell_type": "markdown",
   "metadata": {},
   "source": [
    "*************\n",
    "IV. Matrice ![image.png](attachment:image.png) permettant la multiplication de la ligne i par λ !"
   ]
  },
  {
   "cell_type": "code",
   "execution_count": 32,
   "metadata": {
    "collapsed": true
   },
   "outputs": [],
   "source": [
    "def Di(A,i,λ):\n",
    "    D=np.array(A)     \n",
    "    n=len(D)\n",
    "    print('La matrice de départ est :')\n",
    "    print(D)    \n",
    "    if len(D[0])!=n:\n",
    "        raise Exception('La matrice A n`est pas n x n')\n",
    "    j=0\n",
    "    while(j<n):\n",
    "        v=D[i,j]*λ\n",
    "        D[i,j]=v\n",
    "        j+=1\n",
    "    print('La matrice D est :')\n",
    "    return D "
   ]
  },
  {
   "cell_type": "code",
   "execution_count": 33,
   "metadata": {},
   "outputs": [
    {
     "name": "stdout",
     "output_type": "stream",
     "text": [
      "La matrice de départ est :\n",
      "[[3 1 2]\n",
      " [1 2 3]\n",
      " [2 3 1]]\n",
      "La matrice D est :\n",
      "[[ 3  1  2]\n",
      " [ 4  8 12]\n",
      " [ 2  3  1]]\n"
     ]
    }
   ],
   "source": [
    "A=([[3,1,2],[1,2,3],[2,3,1]])\n",
    "i=1\n",
    "λ=4\n",
    "tabDi=Di(A,i,λ)\n",
    "print(tabDi)"
   ]
  },
  {
   "attachments": {
    "image.png": {
     "image/png": "[encoded data removed]"
    }
   },
   "cell_type": "markdown",
   "metadata": {
    "collapsed": true
   },
   "source": [
    "****************\n",
    "V. Matrice ![image.png](attachment:image.png) permettant d'ajouter à la ligne r, λ fois la ligne  s"
   ]
  },
  {
   "cell_type": "code",
   "execution_count": 34,
   "metadata": {
    "collapsed": true
   },
   "outputs": [],
   "source": [
    "def Lrs(n,r,s,λ):\n",
    "    if r>=n or s>=n:\n",
    "        raise Exception('Uncompatible dimension')\n",
    "    L=np.eye(n)\n",
    "    L[r,s]=λ\n",
    "    return L"
   ]
  },
  {
   "cell_type": "code",
   "execution_count": 35,
   "metadata": {},
   "outputs": [
    {
     "name": "stdout",
     "output_type": "stream",
     "text": [
      "[[ 1.  0.  0.]\n",
      " [ 0.  1.  0.]\n",
      " [ 4.  0.  1.]]\n"
     ]
    }
   ],
   "source": [
    "n=3\n",
    "r=2\n",
    "s=0\n",
    "λ=4\n",
    "tabLrs=Lrs(n,r,s,λ)\n",
    "print(tabLrs)"
   ]
  },
  {
   "cell_type": "code",
   "execution_count": 36,
   "metadata": {
    "scrolled": true
   },
   "outputs": [
    {
     "name": "stdout",
     "output_type": "stream",
     "text": [
      "[[ 1.  0.  0.]\n",
      " [ 0.  4.  0.]\n",
      " [ 0.  0.  4.]]\n"
     ]
    }
   ],
   "source": [
    "a = Lrs(3,1,1,4)@Lrs(3,2,2,4)\n",
    "print(a)"
   ]
  },
  {
   "cell_type": "markdown",
   "metadata": {},
   "source": [
    "***************************\n",
    "VI. Les Matrice inverses de T, D et L"
   ]
  },
  {
   "cell_type": "code",
   "execution_count": 37,
   "metadata": {},
   "outputs": [
    {
     "name": "stdout",
     "output_type": "stream",
     "text": [
      ">>>>>>>>>>>>>>>>>>>>>>>>>>>>>>>>>>>>>>>>>>>>>>>l`inverse de T est : \n",
      "[[ 1.  0.  0.]\n",
      " [ 0.  0.  1.]\n",
      " [ 0.  1.  0.]]\n",
      ">>>>>>>>>>>>>>>>>>>>>>>>>>>>>>>>>>>>>>>>>>>>>>>l`inverse de Di(λ) est : \n",
      "[[ 0.38888889 -0.06944444  0.05555556]\n",
      " [-0.27777778  0.01388889  0.38888889]\n",
      " [ 0.05555556  0.09722222 -0.27777778]]\n",
      ">>>>>>>>>>>>>>>>>>>>>>>>>>>>>>>>>>>>>>>>>>>>>>>l`inverse de Lrs est : \n",
      "[[ 1.  0.  0.]\n",
      " [ 0.  1.  0.]\n",
      " [-4.  0.  1.]]\n"
     ]
    }
   ],
   "source": [
    "invT=np.linalg.inv(tab)\n",
    "print(\">>>>>>>>>>>>>>>>>>>>>>>>>>>>>>>>>>>>>>>>>>>>>>>l`inverse de T est : \")\n",
    "print(invT)\n",
    "invDi=np.linalg.inv(tabDi)\n",
    "print(\">>>>>>>>>>>>>>>>>>>>>>>>>>>>>>>>>>>>>>>>>>>>>>>l`inverse de Di(λ) est : \")\n",
    "print(invDi)\n",
    "invLrs=np.linalg.inv(tabLrs)\n",
    "print(\">>>>>>>>>>>>>>>>>>>>>>>>>>>>>>>>>>>>>>>>>>>>>>>l`inverse de Lrs est : \")\n",
    "print(invLrs)"
   ]
  },
  {
   "cell_type": "markdown",
   "metadata": {
    "collapsed": true
   },
   "source": [
    "VII. La matrice M et son inverse"
   ]
  },
  {
   "cell_type": "code",
   "execution_count": 4,
   "metadata": {
    "collapsed": true
   },
   "outputs": [],
   "source": [
    "def M(n,i,l):\n",
    "    if len(l) != n-1-i or i>=n-1 or i<0:\n",
    "        raise Exception('Uncompatible dimension')\n",
    "    A = np.eye(n)\n",
    "    A[i+1:,i]=l\n",
    "    return A"
   ]
  },
  {
   "cell_type": "code",
   "execution_count": 5,
   "metadata": {},
   "outputs": [
    {
     "name": "stdout",
     "output_type": "stream",
     "text": [
      "la matrice M avec des valeurs donnée manuellement est :\n",
      "[[ 1.          0.          0.        ]\n",
      " [-0.33333333  1.          0.        ]\n",
      " [-0.66666667  0.          1.        ]]\n"
     ]
    }
   ],
   "source": [
    "l=[-1/3,-2/3] #liste de valeur qu'on veut insérer dans notre matrice M\n",
    "#cas de l'exercice vu au cours avec Gauss\n",
    "print(\"la matrice M avec des valeurs donnée manuellement est :\")\n",
    "tabM=M(3,0,l)\n",
    "print(tabM)"
   ]
  },
  {
   "cell_type": "code",
   "execution_count": 40,
   "metadata": {},
   "outputs": [
    {
     "name": "stdout",
     "output_type": "stream",
     "text": [
      "la matrice inverse de M avec des valeurs donnée manuellement est :\n",
      "[[ 1.          0.          0.        ]\n",
      " [ 0.33333333  1.          0.        ]\n",
      " [ 0.66666667  0.          1.        ]]\n"
     ]
    }
   ],
   "source": [
    "invM=np.linalg.inv(M(3,0,l))\n",
    "print(\"la matrice inverse de M avec des valeurs donnée manuellement est :\")\n",
    "print(invM)"
   ]
  },
  {
   "cell_type": "markdown",
   "metadata": {},
   "source": [
    "Le produit matriciel entre la matrice M et son inverse invM = matrice identité :"
   ]
  },
  {
   "cell_type": "code",
   "execution_count": 41,
   "metadata": {},
   "outputs": [
    {
     "name": "stdout",
     "output_type": "stream",
     "text": [
      "[[ 1.  0.  0.]\n",
      " [ 0.  1.  0.]\n",
      " [ 0.  0.  1.]]\n"
     ]
    }
   ],
   "source": [
    "print(invM@tabM)"
   ]
  },
  {
   "cell_type": "code",
   "execution_count": null,
   "metadata": {
    "collapsed": true
   },
   "outputs": [],
   "source": []
  }
 ],
 "metadata": {
  "kernelspec": {
   "display_name": "Python 3",
   "language": "python",
   "name": "python3"
  },
  "language_info": {
   "codemirror_mode": {
    "name": "ipython",
    "version": 3
   },
   "file_extension": ".py",
   "mimetype": "text/x-python",
   "name": "python",
   "nbconvert_exporter": "python",
   "pygments_lexer": "ipython3",
   "version": "3.8.5"
  }
 },
 "nbformat": 4,
 "nbformat_minor": 2
}
