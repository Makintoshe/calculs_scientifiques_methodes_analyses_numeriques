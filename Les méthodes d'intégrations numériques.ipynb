{
 "cells": [
  {
   "cell_type": "markdown",
   "metadata": {},
   "source": [
    "# Les méthodes numériques d'intégration"
   ]
  },
  {
   "cell_type": "markdown",
   "metadata": {},
   "source": [
    "l'objectif poursuivit ici est simple : nosu voulons approcher la valeur numérique d'une intégrale."
   ]
  },
  {
   "cell_type": "markdown",
   "metadata": {},
   "source": [
    "mais que cela veut dire ? et comment faire pour y parvenir ? le présent Notebook, fait l'objet de ces problématiques."
   ]
  },
  {
   "attachments": {
    "image.png": {
     "image/png": "[encoded data removed]"
    }
   },
   "cell_type": "markdown",
   "metadata": {},
   "source": [
    "En effet si nous aovns une intégrale de la forme suivante ![image.png](attachment:image.png)\n"
   ]
  },
  {
   "attachments": {
    "image.png": {
     "image/png": "[encoded data removed]"
    }
   },
   "cell_type": "markdown",
   "metadata": {},
   "source": [
    "les méthodes d'intégrations numériques concistent à approcher cette intégrale I(f) par un nombre ![image.png](attachment:image.png)"
   ]
  },
  {
   "cell_type": "markdown",
   "metadata": {},
   "source": [
    "je me permet ici de nous faire une petite parenthèse ( Jusque là tout va bien, ceci nous paraît logique puisque une intégrale c'est la somme des infinements petits, dasn des cas particuliers, elle permet de traiter efficacement et à la fois des variables discrètes et continues )."
   ]
  },
  {
   "cell_type": "markdown",
   "metadata": {},
   "source": [
    "Ce nombre ci-haut, nous l'avons exprimé de façon générale car en réalité et selon le cours, la valeur de p varie selon la méthode que nous employons, aisni, elle vaut n-1 lorsqu'il s'agit de la méthode des rectangles médian et des trapèzes et, elle vaut (n/2)-1 lorsqu'il s'agit e la méthode de simpson. Encore faudrait-il aussi préciser comment devons-nous définir I(f) pour chaque méthode.\n",
    "\n",
    "Ainsi, pour mieux comprendre comment cela se passe nous répondrons aux questions suivantes en plus de devoir implémenter les algorithmes et d'illustrer concrètement ses méthodes par quelques problèmes de calcul d'intégrale et de comparer des résultats théoriques proprement dits tel que cela nous a été demandé :\n",
    "\n",
    "- Quid de chaque méthode ?\n",
    "- Comment allons-nous définir et mesurer la précision de chaque formule ?\n",
    "- Quand la convergence a-t-elle lieu et que peut être l'expression de l'erreur dans chaque cas ?\n",
    "- Comment devons nous procéder pour construire les formules de ces méthodes en python"
   ]
  },
  {
   "cell_type": "markdown",
   "metadata": {},
   "source": [
    "### La méthode des rectnagles :\n",
    "\n",
    "Cette méthode sert à encadrer l'air d'un domaine sous la courbe d'une fonction qui est la somme d'air recherché entre les sommes des rectanges encadré. Dans les images puisé ci-dessous sur wikipedia, on peut constater que si on augmente le nombre de rectange, l'amplitude de l'intervale diminue.On utilisera ce qu'on appel des points de discrétizations xi tel que :\n",
    "$$\n",
    "x_i = x_0+ih\n",
    "$$\n",
    "et une variable h qui sera la largeur qui subdivise l'intervelle [a,b] n fois tel que :  $h = \\frac{b-a}n$\n",
    "\n",
    "La méthode des rectangles (https://en.wikipedia.org/wiki/Riemann_sum) s'écrit :\n",
    "$$\n",
    "\\int_a^bf(x)\\ \\mathrm{d}x \\simeq I^1_{N,\\mathrm{g}}(f,a,b) =  \\dfrac{b-a}{n}\\sum_{i = 1}^{n} f(x_{i-1}),\n",
    "$$\n",
    "\n",
    "<img src=\"https://upload.wikimedia.org/wikipedia/commons/1/19/Riemann_sum_(leftbox).gif\" width=\"30%\">\n",
    "\n",
    "pour les rectangles à gauche, et\n",
    "$$\n",
    "\\int_a^bf(x)\\ \\mathrm{d}x \\simeq I^1_{N,\\mathrm{d}}(f,a,b) =  \\dfrac{b-a}{n}\\sum_{i = 1}^{n} f(x_{i}),\n",
    "$$\n",
    "\n",
    "<img src=\"https://upload.wikimedia.org/wikipedia/commons/6/61/Riemann_sum_(rightbox).gif\" width=\"30%\">\n",
    "\n",
    "pour les rectangles à droite.\n",
    "\n",
    "<!--<img src=\"https://upload.wikimedia.org/wikipedia/commons/2/26/Integration_rectangle.svg\" width=\"40%\">-->\n",
    "\n",
    "La compléxité de la méthode des rectangles est linéaire ce qui peut poser ds problèmes pour de très grandes valeurs de n.\n",
    "\n",
    "Conditions de convergences :\n",
    "* il faut veiller à ce que les fonctions à traiter soient continues, positives et croissante.\n",
    "\n",
    "\n",
    "### La méthode des trapèzes :\n",
    "\n",
    "lorsqu'on représente graphiquement une courbe, il existe une zone sous cette courbe. le principe de la méthode des trapèzes concicste justement à assimiler la région sous la courbe. La courbe dont il est question, représente une fonction définie sur un segment [a,b] à un trapèze au quel on calculera son aire. Dans la méthode de Trapèze comme dans les autres méthodes, on utilisera  des points de discrétizations xi tel que :\n",
    "$$\n",
    "x_i = x_0+ih\n",
    "$$\n",
    "et une variable h qui sera la largeur  qui subdivise l'intervelle [a,b] n fois tel que : $h = \\frac{b-a}n$\n",
    "\n",
    "Enfin, La méthode des trapèzes (https://en.wikipedia.org/wiki/Trapezoidal_rule) s'écrit :\n",
    "$$\n",
    "    \\int_a^bf(x)\\ \\mathrm{d}x \\simeq I^2_{N}(f,a,b) = \\dfrac{b-a}{n}\\sum_{i = 1}^{n} \\frac{f(x_{i-1}) + f(x_{i})}2.\n",
    "$$\n",
    "\n",
    "<img src=\"https://upload.wikimedia.org/wikipedia/commons/7/7e/Trapezium2.gif\" width=\"40%\">\n",
    "<!--<img src=\"https://upload.wikimedia.org/wikipedia/commons/0/03/Integration_trapezoid.svg\" width=\"40%\">-->\n",
    "\n",
    "c'est bien beau tout ça,mais qu'en est - il  de sa complexité ?\n",
    "D'après mes recherches, on dit que la méthode de trapèze est plus optimale que la méthode de simpson mais plus complexes que la méthodes des rectangles. Je nous propose de découvrir le comment, plus bas.\n",
    "\n",
    "Conditions de convergences :\n",
    "* Il faut que la fonction de départ soit de classe 2 c'est à dire 2 fois continûment différentiable sur [a,b] en plus simple la fonction doit être continue et admet une dérivée seconde. Ma petite astuce ici est de considérer par convention toutes les fonctions polynomiales comme étant déjà continue contrairement aux fonctions rationelles et irrationnelle auxquelles nous devons d'abord étudier la continuité.\n",
    "\n",
    "### La méthode de simpson :\n",
    "\n",
    "Enfin, avant d'aborder l'implémentation de chaque méthode, nous allons aborder la méthode de simpson. On verra que par la méthode de trapèze (tel que vu au cours d'ailleurs) donne des valeurs un peu plus loin de la valeur exacte parce que le défaut de cette méthode se situe au moment ou on tente de couper un arc par une droite afin d'en ressortir un trapèze ce qui explique que le résultat est un peu éloigné. Bien qu'il existe une autre méthode du nom de \"Hermite\" qui pemret de corriger cette erreur quadratique, on doit comprendre et retenir que la méthode de simpson peut être vue comme \"une alternative\" qui permet \"d'éviter\" cette erreur. Elle conciste à grouper des point (par convention 3) consécutif, de la courbe de la fonction d'origine f(x) et de remplacer l'arc passant par ces trois points, par un arc de parabole tout simplement donc au lieu de tracer des droites on va carrément tracer des courbes et pour ce faire on aura besoin du point milieu de chaque segment ou sous-intervalle de l'intervalle de départ. Comme pour les autres méthodes, on utilisera  des points de discrétizations xi tel que :\n",
    "$$\n",
    "x_i = x_0+ih\n",
    "$$\n",
    "et une variable h qui sera la largeur  qui subdivise l'intervelle [a,b] n fois tel que : $h = \\frac{b-a}n$\n",
    "\n",
    "La méthode de Simpson (https://en.wikipedia.org/wiki/Simpson%27s_rule) s'écrit :\n",
    "$$\n",
    "    \\int_a^bf(x)\\ \\mathrm{d}x \\simeq I^3_{N}(f,a,b) = \\dfrac{b-a}{n}\\sum_{i = 0}^{p-1} \\frac 1 6 \\left(f(x_{i-1}) + 4 f(x_{i-1/2})+ f(x_{i}) \\right),\n",
    "$$\n",
    "où $x_{i-1/2} = \\frac{x_{i-1}+x_{i}}{2}$.\n",
    "\n",
    "<img src=\"https://upload.wikimedia.org/wikipedia/commons/c/ca/Simpsons_method_illustration.svg\" width=\"25%\">\n",
    "<!--\n",
    "<img src=\"https://upload.wikimedia.org/wikipedia/commons/6/67/Simpsonsrule2.gif\" width=\"40%\">\n",
    "-->\n",
    "\n",
    "Complexité :\n",
    "La complexité de cette méthode à trois niveau est dite polynomiale de degré 3 (voir même de degré 2 selon le cas que nous traitons).\n",
    "\n",
    "Conditions de convergence :\n",
    "Honnêteté scientifique oblige, nous n'avons malheureusement pas su présenter en plus simple les critères de convergences de cette méthode. Nonobstant cela, afin de faire de ce TP Notebook une reférence parfaite aux intégrations numériques, une proposition ou information suplémentaire serait la bienvenue.\n"
   ]
  },
  {
   "cell_type": "code",
   "execution_count": 33,
   "metadata": {
    "collapsed": true
   },
   "outputs": [],
   "source": [
    "import numpy as np\n",
    "from math import sin, pi, exp, log, cos\n",
    "import matplotlib.pyplot as plt\n",
    "%matplotlib inline"
   ]
  },
  {
   "cell_type": "markdown",
   "metadata": {},
   "source": [
    "### 1. Calcul théorique \n",
    "Sur papier ou avec une calculatrice , on calcule la valeur explicite théorique de :\n",
    "$$\n",
    "    \\int_a^b f(x)\\ \\mathrm{d}x\n",
    "$$"
   ]
  },
  {
   "cell_type": "markdown",
   "metadata": {},
   "source": [
    "Nous implémentons ci-desosus une méthode vt comme valeur theorique\n",
    "qui calcul une intégrale, elle nous servira pour les vérifications."
   ]
  },
  {
   "cell_type": "code",
   "execution_count": 2,
   "metadata": {
    "collapsed": true
   },
   "outputs": [],
   "source": [
    "#def vt(f): \n",
    "    #return np.f"
   ]
  },
  {
   "cell_type": "markdown",
   "metadata": {},
   "source": [
    "## La méthode des rectangles en python"
   ]
  },
  {
   "cell_type": "code",
   "execution_count": 34,
   "metadata": {
    "collapsed": true
   },
   "outputs": [],
   "source": [
    "def rectangle(f,a,b,n):\n",
    "    h = (b - a) / n  # La largeur h des rectangles\n",
    "    integrale = 0  # somme des aires initialement nulle puisque \n",
    "    #une intégrale est une somme!    \n",
    "    for i in range(n):\n",
    "        xi = a + (i + 0.5) * h   # abscisse des \"points médians\" (points de discrétizations)\n",
    "        integrale = integrale + h * f(xi)   # ajouterà la somme précédente l'aire du rectangle  \n",
    "    return integrale\n"
   ]
  },
  {
   "cell_type": "markdown",
   "metadata": {},
   "source": [
    "Exemple : considérons la fonction définies sur [0,1] avec n=4 par :\n",
    "$$\n",
    "    f(x) = \\sin(x),\n",
    "$$\n",
    "et prolongées par 1-périodicité.\n",
    "\n",
    "Appliquons la méthode des rectangles pour résoudre cette intégrale simple :\n",
    "$$\n",
    "    \\int_0^1 sin(x)\\ \\mathrm{d}x\n",
    "$$"
   ]
  },
  {
   "cell_type": "markdown",
   "metadata": {},
   "source": [
    "#### résolutions par la méthode des rectangles :"
   ]
  },
  {
   "cell_type": "code",
   "execution_count": 35,
   "metadata": {},
   "outputs": [
    {
     "name": "stdout",
     "output_type": "stream",
     "text": [
      "résultat numérique de la valeur approximée de l'intégrale : \n",
      "0.4608970094119411\n"
     ]
    }
   ],
   "source": [
    "f= lambda x: sin(x)\n",
    "a=0\n",
    "b=1\n",
    "n=4\n",
    "va =  rectangle(f, a, b, n) #va pour : Valeur Approximé de l'intégrale\n",
    "print(\"résultat numérique de la valeur approximée de l'intégrale : \")\n",
    "print(va)"
   ]
  },
  {
   "cell_type": "markdown",
   "metadata": {},
   "source": [
    "#### calcul théorique :"
   ]
  },
  {
   "cell_type": "code",
   "execution_count": 40,
   "metadata": {
    "collapsed": true
   },
   "outputs": [],
   "source": [
    "# Valeur théorique\n",
    "def vt():\n",
    "        return 1 - np.cos(1)"
   ]
  },
  {
   "cell_type": "code",
   "execution_count": 38,
   "metadata": {},
   "outputs": [
    {
     "name": "stdout",
     "output_type": "stream",
     "text": [
      "le résultat théorique de l'intégrale est : \n",
      "0.459697694132\n"
     ]
    }
   ],
   "source": [
    "print(\"le résultat théorique de l'intégrale est : \")\n",
    "print(vt())"
   ]
  },
  {
   "cell_type": "markdown",
   "metadata": {},
   "source": [
    "### Evaluation des erreurs"
   ]
  },
  {
   "cell_type": "code",
   "execution_count": 41,
   "metadata": {},
   "outputs": [
    {
     "name": "stdout",
     "output_type": "stream",
     "text": [
      "Erreur relative avec rectangle à gauche = 0.00260892167916.\n",
      "Erreur relative avec rectangle à droite = 0.00260892167916.\n"
     ]
    }
   ],
   "source": [
    "erreur_relative_g = np.abs((va - vt()) / vt())\n",
    "erreur_relative_d = np.abs((va - vt()) / vt())\n",
    "#\n",
    "print(\"Erreur relative avec rectangle à gauche = \" + str(erreur_relative_g) + \".\")\n",
    "print(\"Erreur relative avec rectangle à droite = \" + str(erreur_relative_d) + \".\")"
   ]
  },
  {
   "cell_type": "markdown",
   "metadata": {},
   "source": [
    "Comme nous pouvons le constater, en comparant le résultat théorique et le résultat obtenu après application d ela méthode des rectangles il y'a une erreur quadratique de 0.00260892167916 aussi bien du coté gaudche que du coté droite des rectangles. Cette erreur représente d'autre par l'écart que nous avions abordé plus haut."
   ]
  },
  {
   "cell_type": "markdown",
   "metadata": {},
   "source": [
    "## La méthode des trapèzes en python"
   ]
  },
  {
   "cell_type": "code",
   "execution_count": 42,
   "metadata": {
    "collapsed": true
   },
   "outputs": [],
   "source": [
    "def trapeze(f,a,b,n) :\n",
    "    h=(b-a)/float(n) # La largeur h des rectangles\n",
    "    integrale=0.5*(f(a)+f(b))\n",
    "    for i in range(1,n) :\n",
    "        integrale=integrale+f(a+i*h)\n",
    "    return h*integrale\n"
   ]
  },
  {
   "cell_type": "markdown",
   "metadata": {},
   "source": [
    "Exemple : considérons la fonction définies sur [0,1] avec n=4 par :\n",
    "$$\n",
    "    f(x) = \\sin(x),\n",
    "$$\n",
    "et prolongées par 1-périodicité.\n",
    "\n",
    "Appliquons la méthode des trapèzes pour résoudre cette intégrale simple :\n",
    "$$\n",
    "    \\int_0^1 sin(x)\\ \\mathrm{d}x\n",
    "$$"
   ]
  },
  {
   "cell_type": "code",
   "execution_count": 46,
   "metadata": {},
   "outputs": [
    {
     "name": "stdout",
     "output_type": "stream",
     "text": [
      "résultat numérique de la valeur approximée de l'intégrale : \n",
      "0.45730093757150203\n"
     ]
    }
   ],
   "source": [
    "f= lambda x: sin(x)\n",
    "a=0\n",
    "b=1\n",
    "n=4\n",
    "va =  trapeze(f, a, b, n) #va pour : Valeur Approximé de l'intégrale\n",
    "print(\"résultat numérique de la valeur approximée de l'intégrale : \")\n",
    "print(va)"
   ]
  },
  {
   "cell_type": "markdown",
   "metadata": {},
   "source": [
    "on peut remarquer ici que le résultat calculé de l'intégrale par la méthode des trapèze se situe entre le résultat calculé par la méthode des reectangles et, le résultat théoriques chose qui nous pousse à dire que nous avons minimiser l'erreur."
   ]
  },
  {
   "cell_type": "code",
   "execution_count": 47,
   "metadata": {},
   "outputs": [
    {
     "name": "stdout",
     "output_type": "stream",
     "text": [
      "Erreur relative avec la méthode des trapèzes = 0.00521376676662.\n"
     ]
    }
   ],
   "source": [
    "erreur_relative_trapeze = np.abs((va - vt()) / vt())\n",
    "\n",
    "print(\"Erreur relative avec la méthode des trapèzes = \" + str(erreur_relative_trapeze) + \".\")"
   ]
  },
  {
   "cell_type": "markdown",
   "metadata": {},
   "source": [
    "## La méthode de simpson en python"
   ]
  },
  {
   "cell_type": "code",
   "execution_count": 48,
   "metadata": {
    "collapsed": true
   },
   "outputs": [],
   "source": [
    "def simpson(f, a, b, n):\n",
    "    h = (b - a) / n\n",
    "    somme = (f(a) + f(b)) / 2 + 2 * f(a + h / 2)  # On initialise la somme\n",
    "    x = a + h           # La somme commence à x_1 \n",
    "    for i in range(1, n): # On calcule la somme \n",
    "        somme += f(x) + 2 * f(x + h / 2)\n",
    "        x += h\n",
    "    return somme * h/3   # On retourne cette somme fois le pas / 3     "
   ]
  },
  {
   "cell_type": "markdown",
   "metadata": {},
   "source": [
    "Exemple : considérons la fonction définies sur [0,1] avec n=4 par :\n",
    "$$\n",
    "    f(x) = \\sin(x),\n",
    "$$\n",
    "et prolongées par 1-périodicité.\n",
    "\n",
    "Appliquons la méthode des trapèzes pour résoudre cette intégrale simple :\n",
    "$$\n",
    "    \\int_0^1 sin(x)\\ \\mathrm{d}x\n",
    "$$"
   ]
  },
  {
   "cell_type": "code",
   "execution_count": 49,
   "metadata": {},
   "outputs": [
    {
     "name": "stdout",
     "output_type": "stream",
     "text": [
      "résultat numérique de la valeur approximée de l'intégrale : \n",
      "0.4596983187984614\n"
     ]
    }
   ],
   "source": [
    "f= lambda x: sin(x)\n",
    "a=0\n",
    "b=1\n",
    "n=4\n",
    "va =simpson(f, a, b, n) #va pour : Valeur Approximé de l'intégrale\n",
    "print(\"résultat numérique de la valeur approximée de l'intégrale : \")\n",
    "print(va)"
   ]
  },
  {
   "cell_type": "markdown",
   "metadata": {},
   "source": [
    "On s'éloigne un peu plus du résultat obtenu en trapèze n se rapprochant un peu plus du résultat obtenu de rectangle."
   ]
  },
  {
   "cell_type": "code",
   "execution_count": 51,
   "metadata": {},
   "outputs": [
    {
     "name": "stdout",
     "output_type": "stream",
     "text": [
      "Erreur relative avec la méthode de Simpson = 1.3588638991e-06.\n"
     ]
    }
   ],
   "source": [
    "erreur_relative_simpson = np.abs((va - vt()) / vt())\n",
    "\n",
    "print(\"Erreur relative avec la méthode de Simpson = \" + str(erreur_relative_simpson) + \".\")"
   ]
  },
  {
   "cell_type": "markdown",
   "metadata": {},
   "source": [
    "constat : l'erreur est vraiment minimisé!!!"
   ]
  },
  {
   "cell_type": "markdown",
   "metadata": {},
   "source": [
    "### EXERCICES"
   ]
  },
  {
   "cell_type": "markdown",
   "metadata": {},
   "source": [
    "essayons de résoudre ces exercices en utilisant les méthodes implémentés plus haut :\n",
    "avant tout, je propose de calculer theoriquement toutes ces intégrales au choix avant de présenter leur résultat selon les 3 méthodes pour ensuite comparer le résultat théorique et le résultat calculé.\n",
    "\n",
    "$$\n",
    "1) \\int_0^\\frac{\\pi}{2} \\sin(x)\\, dx,\n",
    "$$\n",
    "$$\n",
    "2) \\int_0^\\frac{\\pi}{2} \\cos(x)\\, dx,\n",
    "$$\n",
    "$$\n",
    "3) \\int_1^2 \\log(x)\\, dx,\n",
    "$$\n",
    "$$\n",
    "4) \\int_0^1 e^x\\, dx,\n",
    "$$\n",
    "$$\n",
    "5) \\int_{-1}^1 x^3+1\\, dx,\n",
    "$$"
   ]
  },
  {
   "cell_type": "markdown",
   "metadata": {},
   "source": [
    "### calcul de la valeur théorique de chaque intégrale :"
   ]
  },
  {
   "cell_type": "code",
   "execution_count": 52,
   "metadata": {
    "collapsed": true
   },
   "outputs": [],
   "source": [
    "# Valeurs théoriques.\n",
    "def vt(i):\n",
    "    if i == 1:\n",
    "        return -cos(pi/2)+(cos(0))\n",
    "    elif i == 2:\n",
    "        return sin(pi/2)-sin(0)\n",
    "    elif i == 3:\n",
    "        return -(np.log(2.718282)-2*np.log(2))#e = 2,718282\n",
    "    elif i == 4:\n",
    "        return (2.718282)-1 #e = 2,718282\n",
    "    elif i == 5:\n",
    "        return 2\n",
    "    else:\n",
    "        print(\"l'intégrale à résoudre doit être compris entre 1 et 5\")\n",
    "        return 0 "
   ]
  },
  {
   "cell_type": "code",
   "execution_count": 53,
   "metadata": {},
   "outputs": [
    {
     "name": "stdout",
     "output_type": "stream",
     "text": [
      "pour quelle intégrale aimeriz-vous connaître la valeur theorique ? (1,...,5)\n",
      "intégrale numéro : \n",
      "\n",
      "1\n",
      "\n",
      "\n",
      "la valeur theorique de cette intégrale est  : \n",
      "0.9999999999999999\n"
     ]
    }
   ],
   "source": [
    "i=0\n",
    "print(\"pour quelle intégrale aimeriz-vous connaître la valeur theorique ? (1,...,5)\")\n",
    "print(\"intégrale numéro : \\n\")\n",
    "i = int (input())\n",
    "integrale=vt(i)\n",
    "print(\"\\n\")\n",
    "print(\"la valeur theorique de cette intégrale est  : \")\n",
    "print(integrale)"
   ]
  },
  {
   "cell_type": "code",
   "execution_count": 54,
   "metadata": {},
   "outputs": [
    {
     "name": "stdout",
     "output_type": "stream",
     "text": [
      "Les valeurs théoriques de chaque intégrale : \n",
      "\n",
      "1) 0.9999999999999999\n",
      "2) 1.0\n",
      "3) 0.386294298014\n",
      "4) 1.7182819999999999\n",
      "5) 2\n",
      "Valeurs des intégrales après calcul par la Méthode de rectangle : \n",
      "\n",
      "1) 1.0064545427995637\n",
      "2) 1.006454542799564\n",
      "3) 0.38758831049474823\n",
      "4) 1.713815279771087\n",
      "5) 2.0\n",
      "\n",
      "Valeurs des intégrales après calcul par la Méthode des trapèzes : \n",
      "\n",
      "1) 0.9871158009727755\n",
      "2) 0.9871158009727755\n",
      "3) 0.38369950940944236\n",
      "4) 1.7272219045575168\n",
      "5) 2.0\n",
      "\n",
      "Valeurs des intégrales après calcul par la Méthode des simpson : \n",
      "\n",
      "1) 1.000008295523968\n",
      "2) 1.000008295523968\n",
      "3) 0.386292043466313\n",
      "4) 1.718284154699897\n",
      "5) 2.0\n",
      "10000000 loops, best of 3: 23.2 ns per loop\n"
     ]
    }
   ],
   "source": [
    "#soient nos fonctions :\n",
    "d= lambda x:sin(x)  #pour integrale 1\n",
    "e= lambda x:cos(x)  #pour integrale 2\n",
    "f= lambda x:log(x)  #pour integrale 3\n",
    "g= lambda x:exp(x)  #pour integrale 4\n",
    "h= lambda x:(x**3)+1 #pour integrale 5\n",
    "#choix de n\n",
    "n=4\n",
    "#Valeurs theorique de cahque integrale\n",
    "print(\"Les valeurs théoriques de chaque intégrale : \\n\")\n",
    "print(\"1) \" +str(vt(1)))\n",
    "print(\"2) \" +str(vt(2)))\n",
    "print(\"3) \" +str(vt(3)))\n",
    "print(\"4) \" +str(vt(4)))\n",
    "print(\"5) \" +str(vt(5)))\n",
    "#Méthode de rectangle\n",
    "print(\"Valeurs des intégrales après calcul par la Méthode de rectangle : \\n\")\n",
    "print(\"1) \" + str(rectangle(d,0,pi/2,n)))\n",
    "print(\"2) \" + str(rectangle(e,0,pi/2,n)))\n",
    "print(\"3) \" + str(rectangle(f,1,2,n)))\n",
    "print(\"4) \" + str(rectangle(g,0,1,n)))\n",
    "print(\"5) \" + str(rectangle(h,-1,1,n)) + \"\\n\")\n",
    "#Méthode des trapèzes\n",
    "print(\"Valeurs des intégrales après calcul par la Méthode des trapèzes : \\n\")\n",
    "print(\"1) \" + str(trapeze(d,0,pi/2,n)))\n",
    "print(\"2) \" + str(trapeze(e,0,pi/2,n)))\n",
    "print(\"3) \" + str(trapeze(f,1,2,n)))\n",
    "print(\"4) \" + str(trapeze(g,0,1,n)))\n",
    "print(\"5) \" + str(trapeze(h,-1,1,n)) + \"\\n\")\n",
    "#Méthodes de simpson\n",
    "print(\"Valeurs des intégrales après calcul par la Méthode des simpson : \\n\")\n",
    "print(\"1) \" + str(simpson(d,0,pi/2,n)))\n",
    "print(\"2) \" + str(simpson(e,0,pi/2,n)))\n",
    "print(\"3) \" + str(simpson(f,1,2,n)))\n",
    "print(\"4) \" + str(simpson(g,0,1,n)))\n",
    "print(\"5) \" + str(simpson(h,-1,1,n)))\n",
    "%timeit()"
   ]
  },
  {
   "cell_type": "markdown",
   "metadata": {},
   "source": [
    "### pour conclure ce tp convenablement nous allons effectuer une comparaison des résultats 1 et 5 :\n",
    "\n"
   ]
  },
  {
   "cell_type": "markdown",
   "metadata": {},
   "source": [
    "Il est visible à l'oeil nu que la cinquième intégrale possède la même valeur pour toutes les méthodes, et la valeur approximée est égale à la valeur théorique ce qui signigie qu'il n'y a aucune erreur d'écarts.\n",
    "\n",
    "Par contre le constat est différet avec la première intégrale, alors que ça velur theorique est de 0.999999 (1), son résultat varie selon chaque méthode tel que la méthode des rectangles s'éloigne de plus en plus du résultat, pendant que la méthode de trapèze s'éloigne de moins en moins et que la méthode de simpson prend de plus en plus de valeur et roijoins d'autre part celle de rectangle.\n",
    "\n",
    "#### Ainsi une question se pose :\n",
    "Pour des calcules de précisions, ou dans des domaines d'optimisation tel qu'en machine learning (discipline de l'intelligence artificelle) quelle est la méthode à privilégier ?\n",
    "\n",
    "D'autant plus que le choix ou la décision à prendre serait fonction du réferntiel dans le quel on se retrouvera que ce soit dasn des cas de minimisation ou de maximisation de profit,  j'estime en mon sens que dans un référentiel commun  il serait préférable pour la première intégrale d'opter pour le résultat obtenu à l'aide de la méthode des trapèzes.\n",
    "\n",
    "En éspérant que ce TP Notebook pourrait constituer une référence convenable pour  l'intégration numérique, nous vous remercions de votre attention."
   ]
  },
  {
   "cell_type": "code",
   "execution_count": null,
   "metadata": {
    "collapsed": true
   },
   "outputs": [],
   "source": []
  }
 ],
 "metadata": {
  "kernelspec": {
   "display_name": "Python 3",
   "language": "python",
   "name": "python3"
  },
  "language_info": {
   "codemirror_mode": {
    "name": "ipython",
    "version": 3
   },
   "file_extension": ".py",
   "mimetype": "text/x-python",
   "name": "python",
   "nbconvert_exporter": "python",
   "pygments_lexer": "ipython3",
   "version": "3.6.1"
  }
 },
 "nbformat": 4,
 "nbformat_minor": 4
}
