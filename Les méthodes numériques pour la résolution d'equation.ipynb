{
 "cells": [
  {
   "cell_type": "markdown",
   "metadata": {},
   "source": [
    "# Les méthodes numériques pour la résolution d'équations"
   ]
  },
  {
   "cell_type": "markdown",
   "metadata": {},
   "source": [
    "### 1) Généralités"
   ]
  },
  {
   "cell_type": "markdown",
   "metadata": {},
   "source": [
    "Au début du cours, nous avons vu comment procéder pour résoudre des équations dans R, pour des polynomes d'un ordre inférieur à 3 nous avions procédé par résolution analytique sauf qu'on était limité lorsqu'il fallait le faire sur des polynomes d'un ordre supérieur. C'est alors que nous avions commencé à aborder des méthodes numériques pour contourner ce problème. \n",
    "\n",
    "Et donc ici, toujours à la recherche de x, on travaillera sur une fonction f(x) qui soit non linéaire, c'est à dire, une fonction qui n'est pas exprimé sous la forme f(x)=Ax+b.\n",
    "\n",
    "Pour ce faire, on dira que nous allons utiliser des méthodes itératives car l'idée primaire ici serait de construire une suite x qui convergera (au plus vite) vers x_recherché et pour s'en rassurer il faudra dès le départ, veiller à ce que notre fonction f soit au moins continue sur son ensemble de départ. "
   ]
  },
  {
   "cell_type": "markdown",
   "metadata": {},
   "source": [
    "### 2) Travail à faire"
   ]
  },
  {
   "cell_type": "markdown",
   "metadata": {},
   "source": [
    "Nous verrons alors 5 méthodes numériques de résolutions des systèmes non linéaires , nous les implémenterrons, nous partirons sur des hypothèses et à aboutirons à des thèses en précisant les limites d'utilisation de chacune des méthodes, leur vitesse de convergence rspective et, la précision des solutions proposées en fonction du nombre d'itérations tel que cela nous été demandé. Enfin, nous aurons le plasiir de comparer nos résultats obtenus avec ceux des méthodes proposées au sein du module scipy.optimize : Allons-nous obtenir les mêmes valeurs ?"
   ]
  },
  {
   "cell_type": "markdown",
   "metadata": {},
   "source": [
    "### 3) Hypothèse générale"
   ]
  },
  {
   "attachments": {
    "image.png": {
     "image/png": "[encoded data removed]"
    }
   },
   "cell_type": "markdown",
   "metadata": {},
   "source": [
    "Afin de faire de ce TP Notebook une référence parfaite à l'appréhension des méthodes numériques pour la résolution d'équations non linéaires, nous partirons sur une fonction : ![image.png](attachment:image.png) \n",
    "définit sur un intervale [a,b]=[0.5,1.0]"
   ]
  },
  {
   "cell_type": "markdown",
   "metadata": {},
   "source": [
    "cette fonction nous la testerons au fur et à mesure que nous allons implémenter chaque méthode, elle sera l'élément commun et essentiel que nous aborderons en commentaire afin de comparer aux mieux les méthodes."
   ]
  },
  {
   "attachments": {
    "image.png": {
     "image/png": "[encoded data removed]"
    }
   },
   "cell_type": "markdown",
   "metadata": {},
   "source": [
    "Tout d'abord, nous avons une fonction f(x) qui soit non linéaire,\n",
    "en la résolvant de façon théorique tel que appris à l'école\n",
    "nous savons que la valeur de la fonction dépend de la valeur de x ainsi :\n",
    "\n",
    "- nous devons d'abord poser f(x)=0\n",
    "- ce qui nous emmène à résoudre l'équation x-0,2*sin(x)-0,5 = 0\n",
    "- ensuite la fonction pouvait étant définit sur un intervalle [a,b] on est confiant, du moemnt où f est converge que la racine x recherché s'y trouve.\n",
    "- Et pour des raisons analytics, on en venait à ressortir ce qu'on appel un tableau de variation \n",
    "\n",
    "Cependant, dans le cadre de ce travail nous allons nous intérersser à résoudre cette fonction non pas comme à l'ancienne mais plutôt à l'aide des méthodes de dichotomie, fausse position, sécante, newton, point fixe. nous apppliquerons aussi une précision de calcul de ![image.png](attachment:image.png) et, un nombre d'itération 20 par défaut, choisit au hasard. Vous pourrez aussi constater que a=0.5 alors que b=1.0 sauf dans les cas de point fixe et nuewtion où il s'agira uniquement de 1.0 ."
   ]
  },
  {
   "attachments": {
    "image.png": {
     "image/png": "[encoded data removed]"
    }
   },
   "cell_type": "markdown",
   "metadata": {},
   "source": [
    "Nous noterons f_dx, la dérivée première de f par rapport à x :\n",
    "![image.png](attachment:image.png)"
   ]
  },
  {
   "cell_type": "markdown",
   "metadata": {},
   "source": [
    "### 4) Démonstration"
   ]
  },
  {
   "cell_type": "markdown",
   "metadata": {},
   "source": [
    "#### Importations nécessaire et préparation :"
   ]
  },
  {
   "cell_type": "code",
   "execution_count": 134,
   "metadata": {
    "collapsed": true
   },
   "outputs": [],
   "source": [
    "import numpy as np\n",
    "from math import sin, pi, exp, log, cos, sqrt\n",
    "import matplotlib.pyplot as plt\n",
    "from scipy.optimize import bisect, newton, fixed_point"
   ]
  },
  {
   "cell_type": "markdown",
   "metadata": {},
   "source": [
    "#### Notre fonction f(x) :"
   ]
  },
  {
   "cell_type": "code",
   "execution_count": 111,
   "metadata": {
    "collapsed": true
   },
   "outputs": [],
   "source": [
    "f=lambda x:x-0.2*sin(x)-0.5 "
   ]
  },
  {
   "cell_type": "markdown",
   "metadata": {},
   "source": [
    "##### 4.1. Méthode dichotomie ou de la bissection :"
   ]
  },
  {
   "cell_type": "markdown",
   "metadata": {},
   "source": [
    "Il semble que cette méthode paraît bien évidente à comprendre de part sa nomination ... dichotomie : traduisons cela par diviser pour mieux régner. \n",
    "\n",
    "Puisque nous sommes partons à la quête de la valeur de x la plus stable possible et présente dans un intervalle [a,b], nous allons procéder par la division de cet intervalle en intervalle de plus en plus petit. Cette division a lieu au milieu (m) de l'intervalle. et puisqu'il s'agit d'une division < di >, le milieu sera la somme des bornes sur 2. Ainsi, il existera au moins une solution entre (a,m) ou (m,b)."
   ]
  },
  {
   "cell_type": "code",
   "execution_count": 118,
   "metadata": {
    "collapsed": true
   },
   "outputs": [],
   "source": [
    "def dichotomie(f,a,b,precision,iteration):\n",
    "    i=0\n",
    "    while abs(b - a) > precision and i<iteration:\n",
    "        m = (a+b) / 2\n",
    "        if f(a) * f(m)  < 0:\n",
    "            #a = a #logiquement cette ligne est facultative\n",
    "            b = m\n",
    "        else:\n",
    "            a = m\n",
    "            #b = b #logiquement cette ligne est facultative\n",
    "        print(\"itération \"+str(i) +\" | \" + \"x(\"+str(i)+\") = \" +str(m))\n",
    "        print(\"__________________________________________________\")\n",
    "        i=i+1\n",
    "    return \"la valeur finale de x trouvée est \"+str(m)"
   ]
  },
  {
   "cell_type": "markdown",
   "metadata": {},
   "source": [
    "Application de l'algorithme :"
   ]
  },
  {
   "cell_type": "code",
   "execution_count": 138,
   "metadata": {},
   "outputs": [
    {
     "name": "stdout",
     "output_type": "stream",
     "text": [
      "itération 0 | x(0) = 0.75\n",
      "__________________________________________________\n",
      "itération 1 | x(1) = 0.625\n",
      "__________________________________________________\n",
      "itération 2 | x(2) = 0.5625\n",
      "__________________________________________________\n",
      "itération 3 | x(3) = 0.59375\n",
      "__________________________________________________\n",
      "itération 4 | x(4) = 0.609375\n",
      "__________________________________________________\n",
      "itération 5 | x(5) = 0.6171875\n",
      "__________________________________________________\n",
      "itération 6 | x(6) = 0.61328125\n",
      "__________________________________________________\n",
      "itération 7 | x(7) = 0.615234375\n",
      "__________________________________________________\n",
      "itération 8 | x(8) = 0.6162109375\n",
      "__________________________________________________\n",
      "itération 9 | x(9) = 0.61572265625\n",
      "__________________________________________________\n",
      "itération 10 | x(10) = 0.615478515625\n",
      "__________________________________________________\n",
      "itération 11 | x(11) = 0.6153564453125\n",
      "__________________________________________________\n",
      "itération 12 | x(12) = 0.61541748046875\n",
      "__________________________________________________\n",
      "itération 13 | x(13) = 0.615447998046875\n",
      "__________________________________________________\n",
      "itération 14 | x(14) = 0.6154632568359375\n",
      "__________________________________________________\n",
      "itération 15 | x(15) = 0.6154708862304688\n",
      "__________________________________________________\n",
      "itération 16 | x(16) = 0.6154670715332031\n",
      "__________________________________________________\n",
      "itération 17 | x(17) = 0.6154689788818359\n",
      "__________________________________________________\n",
      "itération 18 | x(18) = 0.6154680252075195\n",
      "__________________________________________________\n",
      "itération 19 | x(19) = 0.6154685020446777\n",
      "__________________________________________________\n",
      "la valeur finale de x trouvée est 0.6154685020446777\n",
      "100000000 loops, best of 3: 18.9 ns per loop\n"
     ]
    }
   ],
   "source": [
    "res=dichotomie(f , 0.5, 1.0, 0.0000001,20)\n",
    "print(res)\n",
    "%timeit()"
   ]
  },
  {
   "cell_type": "markdown",
   "metadata": {},
   "source": [
    "Pour la méthode de bissection, on peut constater qu'on atteint une certaine stabilité à partir de la 18e itération et donc que la valeur de notre x n'est pas loin d'un 0.615468... quelque chose (...)"
   ]
  },
  {
   "cell_type": "markdown",
   "metadata": {},
   "source": [
    "##### 4.2.  Méthode de la fausse position :"
   ]
  },
  {
   "cell_type": "markdown",
   "metadata": {},
   "source": [
    "Ici, c'est en choissant l’extrémité fixe (A = (a, f (a)) ou B = (b, f (b))) de la méthode, qu'on va construire une suite x qui puisse convergr mais seulement, il faudrait dès le départ partir sur un point fixe qui va varier selon les itérations."
   ]
  },
  {
   "cell_type": "code",
   "execution_count": 121,
   "metadata": {},
   "outputs": [
    {
     "name": "stdout",
     "output_type": "stream",
     "text": [
      "itération 0 | x(0) = 0.6154935000145942\n",
      "__________________________________________________\n",
      "la valeur finale de x trouvée est 0.6154935000145942\n"
     ]
    }
   ],
   "source": [
    "def fausse_p(f,a,b,p,iteration):\n",
    "    x = a - ( b - a ) * f(a) / ( f(b) - f(a) )\n",
    "    y = a - ( x - a ) * f(a) / ( f(x) - f(a) )\n",
    "    i=0\n",
    "    while abs(x - y) >= p and i<iteration:\n",
    "        y = a - ( x - a ) * f(a) / ( f(x) - f(a) )\n",
    "        x = y\n",
    "        print(\"itération \"+str(i) +\" | \" + \"x(\"+str(i)+\") = \" +str(x))\n",
    "        print(\"__________________________________________________\")\n",
    "        i=i+1\n",
    "    return \"la valeur finale de x trouvée est \"+str(x)  \n",
    "\n",
    "\n",
    "res = fausse_p(f, 0.5, 1.0, 0.0000001,20)\n",
    "print(res)"
   ]
  },
  {
   "cell_type": "markdown",
   "metadata": {},
   "source": [
    "incroyable mais vrai, il n'a fallu qu'une seule itération pour obtenir la valeur de x recherché."
   ]
  },
  {
   "cell_type": "markdown",
   "metadata": {},
   "source": [
    "##### 4.3. Méthode de la sécante:"
   ]
  },
  {
   "cell_type": "markdown",
   "metadata": {},
   "source": [
    "Imaginez-vous dans une situation où il vous est difficile d'expliciter la dérivée de la fonction f, utiliser la méthode de newton que nous verrons tout juste après et qui traite sur les dérivée des fonctions, ne nous aidera pas, car cela ne sera pas aussi simple que ça, pour y pallier, la méthode de la sécante propose que nous puissions remplacer f par ce qu'elle appel le taux d'accroissement de f sur un intervalle minime. Après le choix d'une intervalle, on va remplacer notre f par la sécante qui passe par les points de cett eintervalle (a,f(a)) et (b,f(b)) pour ensuite trouver une valeur de x comme étant l'abscisse du point où cette droite affine obtenue intercepte l'axe des x et on en déduire que cela sera optimale tout comme pour la méthode de la dichotomie une fois qu'on aura répéter le procéder sur l'intervalle [a,x] ou [x,b] selon le signe de f(a) et f(b) que nous allons aussi comparer. La méthode de la sécante est aussi une variante de la fausse position."
   ]
  },
  {
   "cell_type": "code",
   "execution_count": 141,
   "metadata": {},
   "outputs": [
    {
     "name": "stdout",
     "output_type": "stream",
     "text": [
      "itération 0 | x(0) = 0.6121224812175966\n",
      "_____________________________________________________\n",
      "itération 1 | x(1) = 0.6154935000145942\n",
      "_____________________________________________________\n",
      "itération 2 | x(2) = 0.6154681636499884\n",
      "_____________________________________________________\n",
      "itération 3 | x(3) = 0.6154681694899552\n",
      "_____________________________________________________\n",
      "itération 4 | x(4) = 0.6154681694899653\n",
      "_____________________________________________________\n",
      "itération 5 | x(5) = 0.6154681694899654\n",
      "_____________________________________________________\n",
      "itération 6 | x(6) = 0.6154681694899654\n",
      "_____________________________________________________\n",
      "la valeur finale de x trouvée est 0.6154681694899654\n"
     ]
    }
   ],
   "source": [
    "def secante(f,a,b,p,iteration):\n",
    "    i,x=0,0\n",
    "    while abs(b-a) > p and i<iteration :\n",
    "        x = b-f(b)*( b - a ) / ( f(b) - f(a) )\n",
    "        if f(a)*f(b)<0:\n",
    "            a = a\n",
    "            b = x\n",
    "        else:\n",
    "            a = x \n",
    "            b = b\n",
    "        print(\"itération \"+str(i) +\" | \" + \"x(\"+str(i)+\") = \" +str(x))\n",
    "        print(\"_____________________________________________________\")\n",
    "        i=i+1\n",
    "    return \"la valeur finale de x trouvée est \"+str(x)\n",
    "\n",
    "\n",
    "res = secante(f , 0.5, 1.0, 0.0000001,20)\n",
    "print (res)"
   ]
  },
  {
   "cell_type": "markdown",
   "metadata": {},
   "source": [
    "On peut remarquer que par la méthode de la sécante, on atteint une certaine stabilité (valeur de x_recherché) à partir de 6e itération, ce qui est encore bien meilleure que ce que nous offre (en partant même du résultat obtenu) la dichotomie."
   ]
  },
  {
   "cell_type": "markdown",
   "metadata": {},
   "source": [
    "##### 4.4. Méthode de newton :"
   ]
  },
  {
   "cell_type": "markdown",
   "metadata": {},
   "source": [
    "Très souvent, cette méthode exige que la fonction soit deux fois continuement différentiable c'est à dire qu'elle admet une dérivée seconde et est continue. ici on part d'une certaine valeur x qu'on considère valeur approchée de la solution en posant x=x0. Et lors du procédé de cet algorithme on fixe un critère d'arrêt souvent utilisé et qui conciste à s'arrêter dès qu'on se rapproche de plus en plus de 0 |x(k+1)-x(k)| < e et de x_recherhé."
   ]
  },
  {
   "cell_type": "code",
   "execution_count": 135,
   "metadata": {},
   "outputs": [
    {
     "name": "stdout",
     "output_type": "stream",
     "text": [
      "itération 0 | x(0) = 0.6281073003279074\n",
      "_____________________________________________________\n",
      "itération 1 | x(1) = 0.6154793037449435\n",
      "_____________________________________________________\n",
      "itération 2 | x(2) = 0.6154681694985198\n",
      "_____________________________________________________\n",
      "itération 3 | x(3) = 0.6154681694899653\n",
      "_____________________________________________________\n",
      "itération 4 | x(4) = 0.6154681694899654\n",
      "_____________________________________________________\n",
      "itération 5 | x(5) = 0.6154681694899654\n",
      "_____________________________________________________\n",
      "itération 6 | x(6) = 0.6154681694899654\n",
      "_____________________________________________________\n",
      "itération 7 | x(7) = 0.6154681694899654\n",
      "_____________________________________________________\n",
      "itération 8 | x(8) = 0.6154681694899654\n",
      "_____________________________________________________\n",
      "itération 9 | x(9) = 0.6154681694899654\n",
      "_____________________________________________________\n",
      "itération 10 | x(10) = 0.6154681694899654\n",
      "_____________________________________________________\n",
      "itération 11 | x(11) = 0.6154681694899654\n",
      "_____________________________________________________\n",
      "itération 12 | x(12) = 0.6154681694899654\n",
      "_____________________________________________________\n",
      "itération 13 | x(13) = 0.6154681694899654\n",
      "_____________________________________________________\n",
      "itération 14 | x(14) = 0.6154681694899654\n",
      "_____________________________________________________\n",
      "itération 15 | x(15) = 0.6154681694899654\n",
      "_____________________________________________________\n",
      "itération 16 | x(16) = 0.6154681694899654\n",
      "_____________________________________________________\n",
      "itération 17 | x(17) = 0.6154681694899654\n",
      "_____________________________________________________\n",
      "itération 18 | x(18) = 0.6154681694899654\n",
      "_____________________________________________________\n",
      "itération 19 | x(19) = 0.6154681694899654\n",
      "_____________________________________________________\n",
      "la valeur finale de x trouvée est 0.6154681694899654\n"
     ]
    }
   ],
   "source": [
    "def _newton(f,f_dx,a,e,iteration):\n",
    "    x=a #initialisation x(0)=a\n",
    "    i=0\n",
    "    k = 1#\n",
    "    while k >= e and i<iteration:\n",
    "        x = x - f(x)/f_dx(x)\n",
    "        k = abs(x - a)\n",
    "        print(\"itération \"+str(i) +\" | \" + \"x(\"+str(i)+\") = \" +str(x))\n",
    "        print(\"_____________________________________________________\")\n",
    "        i=i+1\n",
    "    return \"la valeur finale de x trouvée est \"+str(x)\n",
    "    \n",
    "\n",
    "f_dx=lambda x:1-0.2*cos(x)\n",
    "res=_newton(f , f_dx , 1.0 , 0.00000001,20)  #\n",
    "print(res)"
   ]
  },
  {
   "cell_type": "markdown",
   "metadata": {},
   "source": [
    "La méthode de newton ici semble être très optimale rien qu'en constatant qu'à partir de la 5e itération, on atteint la veleur de x_recheré = 0.6154681694899654"
   ]
  },
  {
   "cell_type": "markdown",
   "metadata": {},
   "source": [
    "##### 4.5. Méthode des approximations successives ou méthode de point fixe :"
   ]
  },
  {
   "cell_type": "markdown",
   "metadata": {},
   "source": [
    "La méthode de point fixe est une méthode très intéressante du fait qu'elle permet en partant d'une fonction de départ donnée f, d'obtenir une fonction dite auxilliaire. Autrement, c'est la transformation d'une fonction donnée en un problème équivalent. Cette recher pemet alors de trouver plusieurs autres fonctions auxilliaires ce qui peut nous offrir plusieurs possibilités pour aller à la découverte de notre x. Cependant, elle nécessite que la fonction auxilliaire à traiter puisse être convergente afin d'assurer l'exactitude de x. \n",
    "\n",
    "Nous noterons toutes fonctions auxilliaire de f par g(x).\n",
    "ainsi dans le cadre de ce travaille et partant de notre exemple typique nou svous montrons comment nous procédons pour ressortir notre fonction auxillaire g(x) :"
   ]
  },
  {
   "attachments": {
    "image.png": {
     "image/png": "[encoded data removed]"
    }
   },
   "cell_type": "markdown",
   "metadata": {},
   "source": [
    "* recherchons une expression de la forme x=g(x) avec g(x) fonction auxilliare déduite de f(x) : ![image.png](attachment:image.png)"
   ]
  },
  {
   "attachments": {
    "image.png": {
     "image/png": "[encoded data removed]"
    }
   },
   "cell_type": "markdown",
   "metadata": {},
   "source": [
    "* posons f(x)=0 :\n",
    "![image.png](attachment:image.png)"
   ]
  },
  {
   "attachments": {
    "image.png": {
     "image/png": "[encoded data removed]"
    }
   },
   "cell_type": "markdown",
   "metadata": {},
   "source": [
    "* ressortons la forme x=g(x) en partant de l'équation : ![image.png](attachment:image.png)"
   ]
  },
  {
   "attachments": {
    "image.png": {
     "image/png": "[encoded data removed]"
    }
   },
   "cell_type": "markdown",
   "metadata": {},
   "source": [
    "* Nous pouvons donc conclure que pour ![image.png](attachment:image.png)\n",
    "la fonction auxiliaire est : ![image.png](attachment:image.png)"
   ]
  },
  {
   "cell_type": "code",
   "execution_count": 142,
   "metadata": {
    "collapsed": true
   },
   "outputs": [],
   "source": [
    "def point_fixe(g, x0 ,iteration):  \n",
    "    i = 0    \n",
    "    x = x0\n",
    "    while (i < iteration):       \n",
    "        x = g(x)\n",
    "        print(\"itération \"+str(i) +\" | \" + \"x(\"+str(i)+\") = \" +str(x))\n",
    "        print(\"_____________________________________________________\")\n",
    "        i=i+1\n",
    "    return \"la valeur finale de x trouvée est \"+str(x)"
   ]
  },
  {
   "cell_type": "code",
   "execution_count": 146,
   "metadata": {},
   "outputs": [
    {
     "name": "stdout",
     "output_type": "stream",
     "text": [
      "itération 0 | x(0) = 0.6682941969615793\n",
      "_____________________________________________________\n",
      "itération 1 | x(1) = 0.6239296077689234\n",
      "_____________________________________________________\n",
      "itération 2 | x(2) = 0.6168457778597818\n",
      "_____________________________________________________\n",
      "itération 3 | x(3) = 0.6156930241911159\n",
      "_____________________________________________________\n",
      "itération 4 | x(4) = 0.6155048854891813\n",
      "_____________________________________________________\n",
      "itération 5 | x(5) = 0.6154741651586209\n",
      "_____________________________________________________\n",
      "itération 6 | x(6) = 0.6154691485844702\n",
      "_____________________________________________________\n",
      "itération 7 | x(7) = 0.6154683293766777\n",
      "_____________________________________________________\n",
      "itération 8 | x(8) = 0.6154681955995678\n",
      "_____________________________________________________\n",
      "itération 9 | x(9) = 0.6154681737536803\n",
      "_____________________________________________________\n",
      "itération 10 | x(10) = 0.6154681701862328\n",
      "_____________________________________________________\n",
      "itération 11 | x(11) = 0.6154681696036663\n",
      "_____________________________________________________\n",
      "itération 12 | x(12) = 0.6154681695085329\n",
      "_____________________________________________________\n",
      "itération 13 | x(13) = 0.6154681694929974\n",
      "_____________________________________________________\n",
      "itération 14 | x(14) = 0.6154681694904605\n",
      "_____________________________________________________\n",
      "itération 15 | x(15) = 0.6154681694900462\n",
      "_____________________________________________________\n",
      "itération 16 | x(16) = 0.6154681694899786\n",
      "_____________________________________________________\n",
      "itération 17 | x(17) = 0.6154681694899675\n",
      "_____________________________________________________\n",
      "itération 18 | x(18) = 0.6154681694899657\n",
      "_____________________________________________________\n",
      "itération 19 | x(19) = 0.6154681694899654\n",
      "_____________________________________________________\n",
      "itération 20 | x(20) = 0.6154681694899654\n",
      "_____________________________________________________\n",
      "la valeur finale de x trouvée est 0.6154681694899654\n"
     ]
    }
   ],
   "source": [
    "g=lambda x:0.2*sin(x)+0.5\n",
    "res=point_fixe(g, 1,21)#exception faite nombre d'itération = 21\n",
    "print(res)"
   ]
  },
  {
   "cell_type": "markdown",
   "metadata": {},
   "source": [
    "Le constat est simple : il a fallu attendre 20 itérations pour que x soit trouvé."
   ]
  },
  {
   "cell_type": "markdown",
   "metadata": {},
   "source": [
    "##### 4.1. Utilisation des méthodes numériques présentes dans le module Optimize de la librairie scipy du langage python :"
   ]
  },
  {
   "cell_type": "code",
   "execution_count": 133,
   "metadata": {},
   "outputs": [
    {
     "name": "stdout",
     "output_type": "stream",
     "text": [
      "*********************************\n",
      "******méthode de dichotomie******\n",
      "*********************************\n",
      "\n",
      "\n",
      "résultat selon python : \n",
      "0.615468169491578\n",
      "\n",
      "\n",
      "*********************************\n",
      "********méthode de newton********\n",
      "*********************************\n",
      "\n",
      "\n",
      "résultat selon python : \n",
      "0.6154681694899653\n",
      "\n",
      "\n",
      "*********************************\n",
      "******méthode de point fixe******\n",
      "*********************************\n",
      "\n",
      "\n",
      "résultat selon python : \n",
      "0.6154681694899654\n",
      "\n",
      "\n"
     ]
    }
   ],
   "source": [
    "dichotoPython = bisect(f,0.5,1.0) \n",
    "newtonPython = newton(f,1.0,f_dx) \n",
    "pfPython = fixed_point(g,1.0)\n",
    "print(\"*********************************\")\n",
    "print(\"******méthode de dichotomie******\")\n",
    "print(\"*********************************\")\n",
    "print(\"\\n\")\n",
    "print(\"résultat selon python : \")\n",
    "print(dichotoPython)\n",
    "print(\"\\n\")\n",
    "print(\"*********************************\")\n",
    "print(\"********méthode de newton********\")\n",
    "print(\"*********************************\")\n",
    "print(\"\\n\")\n",
    "print(\"résultat selon python : \")\n",
    "print(newtonPython)\n",
    "print(\"\\n\")\n",
    "print(\"*********************************\")\n",
    "print(\"******méthode de point fixe******\")\n",
    "print(\"*********************************\")\n",
    "print(\"\\n\")\n",
    "print(\"résultat selon python : \")\n",
    "print(pfPython)\n",
    "print(\"\\n\")"
   ]
  },
  {
   "cell_type": "markdown",
   "metadata": {},
   "source": [
    "### 5) Thèses :"
   ]
  },
  {
   "cell_type": "markdown",
   "metadata": {},
   "source": [
    "##### Valeur de x :\n",
    "\n",
    "Enfin, après avoir trouvé pour notre fonction la valeur de x, on constate que le résultat trouvé diffère d'une fonction à une autre mais que de façon générale ça donnerait quelque chose du genre :\n",
    "x = 0.6154681694899654 comme valeur la plus stable de x où celui-ci trouve sa convergence.\n",
    "\n",
    "##### Comparaison des méthodes :\n",
    "\n",
    "On peut aussi selon le nombre d'itération dire la méthode de la sécante semble la plus otpimale du fait qu'il n'a fallut que d'une itéation pour atteindre cette valeur, suivit de la méthode de newton (5 itéarations), la sécante (6 itérations), la bissection ou dichotomie (18 itérations) et enfin la plus lente et la moins optimale la méthode de point fixe (qui a nécessité 20 itérations).\n",
    "\n",
    "##### Mon implémentation vs Scipy.Optimize :\n",
    " _________________________________________________\n",
    "| M    : Scipy.Optimize     | Mon implemenation   |\n",
    " _________________________________________________ \n",
    "\n",
    "| poif : 0.6154681694899654 | 0.6154681694899654  |\n",
    " _________________________________________________ \n",
    "\n",
    "| newt : 0.6154681694899653 | 0.6154681694899654  |\n",
    " _________________________________________________ \n",
    "                                               \n",
    "| dich : 0.615468169491578  | 0.6154685020446777   |\n",
    " _________________________________________________\n",
    "\n",
    "BINGO, ce que nous avons implémenté présente plus d'une méthode qui renseigne la valeur exacte de 0,6154681694899654 alors que la léthode de newton par exemple du point de vu de python nécessiterai encore plus d'itération. Par contre il me semble que notre implémentation de la méthode de dichotomie renseigne la valeur de x encore plus lentemment que celle de python."
   ]
  },
  {
   "cell_type": "markdown",
   "metadata": {},
   "source": [
    "En espérant avoir fait de ce TP Notebook une bonne référence pour l'appréhension des méthodes numériques pour la résolution nous restons ouvert pour n'importe quelles propositons.\n",
    "\n",
    "Merci."
   ]
  },
  {
   "cell_type": "code",
   "execution_count": null,
   "metadata": {
    "collapsed": true
   },
   "outputs": [],
   "source": []
  }
 ],
 "metadata": {
  "kernelspec": {
   "display_name": "Python 3",
   "language": "python",
   "name": "python3"
  },
  "language_info": {
   "codemirror_mode": {
    "name": "ipython",
    "version": 3
   },
   "file_extension": ".py",
   "mimetype": "text/x-python",
   "name": "python",
   "nbconvert_exporter": "python",
   "pygments_lexer": "ipython3",
   "version": "3.8.5"
  }
 },
 "nbformat": 4,
 "nbformat_minor": 2
}
