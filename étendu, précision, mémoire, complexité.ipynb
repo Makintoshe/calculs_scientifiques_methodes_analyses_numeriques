{
 "cells": [
  {
   "cell_type": "markdown",
   "metadata": {},
   "source": [
    "# TP relatif à l'entendue des données, leur précision, à l'occupation mémoire et à la complexité algorithmique :\n"
   ]
  },
  {
   "cell_type": "markdown",
   "metadata": {},
   "source": [
    "Les premières manipulations de travaux pratiques visaient à sensibiliser les étudiants aux notions\n",
    "suivante :\n",
    "*  taille des données numériques (entières et flottantes) pouvant être représentées\n",
    "*  à la précision des nombres à virgule flottante et à l'implication sur les calculs\n",
    "*  à la mémoire occupée par les différents types de données\n",
    "*  à la complexité algorithmique\n",
    "*  à la vitesse de convergence des différentes méthodes\n",
    "\n",
    "Les implémentations demandées étaient les suivantes :\n",
    "\n",
    "*  approximations π/4 ou π/2 par les différentes formules vues en TD avec nombre d'itérations\n",
    "  pour obtenir une précision donnée, ou précision obtenue après un nombre donné d'itérations.\n",
    "\n",
    "*  calcul itératif et récursif du factoriel d'un entier\n",
    "*  calcul de la somme des 1/n avec n croissant et n décroissant\n",
    "*  calcul de cosx par développement limité (avec et sans récurrence)"
   ]
  },
  {
   "cell_type": "code",
   "execution_count": 7,
   "metadata": {
    "collapsed": true
   },
   "outputs": [],
   "source": [
    "#def memory():\n",
    "#    import os\n",
    "#    from wmi import WMI #il faut avoir installer sur s machine le module wmi puis fair appel à la méthode pour executer\n",
    "#                         et connaître l'espace mémoire occupé par la fonction\n",
    "#    w = WMI('.')\n",
    "#    result = w.query(\"SELECT WorkingSet FROM Win32_PerfRawData_PerfProc_Process WHERE IDProcess=%d\" % os.getpid())\n",
    "#    return int(result[0].WorkingSet)"
   ]
  },
  {
   "cell_type": "code",
   "execution_count": 8,
   "metadata": {
    "collapsed": true
   },
   "outputs": [],
   "source": [
    "#algo Exercice 1 sous question 3\n",
    "def cos1_3(x,p):\n",
    "    s=0\n",
    "    t=1\n",
    "    i=0\n",
    "    while abs(t) > p :\n",
    "        s=s+t\n",
    "        i=i+1\n",
    "        t=1\n",
    "        for j in range(1,2*i) :\n",
    "            t=t*x/j\n",
    "        if i%2 + 1 :\n",
    "            t= -t\n",
    "    return t"
   ]
  },
  {
   "cell_type": "code",
   "execution_count": 9,
   "metadata": {},
   "outputs": [
    {
     "name": "stdout",
     "output_type": "stream",
     "text": [
      "-9.852388207788596e-07\n",
      "100000000 loops, best of 3: 18.8 ns per loop\n"
     ]
    }
   ],
   "source": [
    "print(cos1_3(180,0.000001))\n",
    "#print(memory())\n",
    "%timeit()"
   ]
  },
  {
   "cell_type": "markdown",
   "metadata": {},
   "source": [
    "#### Complexité : \n",
    "polynomiale d'ordre 2\n",
    "#### Précision :\n",
    "0.000001\n",
    "#### Délais d'éxecution : \n",
    "19.2 ns"
   ]
  },
  {
   "cell_type": "code",
   "execution_count": 16,
   "metadata": {
    "collapsed": true
   },
   "outputs": [],
   "source": [
    "#algo optimisé de l'Exercice 1 sous question 5\n",
    "def cos1_5(x,p):\n",
    "    s=0\n",
    "    t=1\n",
    "    i=0\n",
    "    while abs(s) > p :\n",
    "        s=s+t\n",
    "        t=-t*x*x/(2*i+1)*(2*i+2)\n",
    "        i=i+1\n",
    "    return t"
   ]
  },
  {
   "cell_type": "code",
   "execution_count": 18,
   "metadata": {},
   "outputs": [
    {
     "name": "stdout",
     "output_type": "stream",
     "text": [
      "1\n",
      "10000000 loops, best of 3: 18.6 ns per loop\n"
     ]
    }
   ],
   "source": [
    "print(cos1_5(0,0.000001))\n",
    "%timeit()"
   ]
  },
  {
   "cell_type": "markdown",
   "metadata": {},
   "source": [
    "#### Complexité : \n",
    "polynomiale d'ordre 1\n",
    "#### Précision :\n",
    "0.000001\n",
    "#### Délais d'éxecution : \n",
    "18.6 ns"
   ]
  },
  {
   "cell_type": "code",
   "execution_count": 14,
   "metadata": {
    "collapsed": true
   },
   "outputs": [],
   "source": [
    "#algo de l'Exercice 2 sous question 3\n",
    "def algo2_3() : \n",
    "    s=0\n",
    "    t=1\n",
    "    i=0\n",
    "    while abs(t)> 10**(-6) :\n",
    "        s = s + t \n",
    "        i = i + 1\n",
    "        t = 1 / (2 * i + 1)\n",
    "        if  i % 2 == 1 : \n",
    "            t = -t\n",
    "    return t"
   ]
  },
  {
   "cell_type": "code",
   "execution_count": 15,
   "metadata": {},
   "outputs": [
    {
     "name": "stdout",
     "output_type": "stream",
     "text": [
      "9.99999000001e-07\n",
      "100000000 loops, best of 3: 19.3 ns per loop\n"
     ]
    }
   ],
   "source": [
    "print(algo2_3())\n",
    "%timeit()"
   ]
  },
  {
   "cell_type": "markdown",
   "metadata": {},
   "source": [
    "#### Complexité : \n",
    "polynomiale d'ordre 1\n",
    "#### Précision :\n",
    "0.000001\n",
    "#### Délais d'éxecution : \n",
    "19.3 ns"
   ]
  },
  {
   "cell_type": "code",
   "execution_count": 12,
   "metadata": {
    "collapsed": true
   },
   "outputs": [],
   "source": [
    "#algo optimisé de l'Exercice 2 sous question 4\n",
    "def algo2_4() : \n",
    "    s=0\n",
    "    t=1\n",
    "    i=0\n",
    "    while abs(t)> 10**(-6) :\n",
    "        s = s + t \n",
    "        i = i + 1\n",
    "        t = 2 /((4*i+1)*(4*i+3))\n",
    "    return t"
   ]
  },
  {
   "cell_type": "code",
   "execution_count": 13,
   "metadata": {},
   "outputs": [
    {
     "name": "stdout",
     "output_type": "stream",
     "text": [
      "9.946670923841822e-07\n",
      "10000000 loops, best of 3: 18.6 ns per loop\n"
     ]
    }
   ],
   "source": [
    "print(algo2_4())\n",
    "%timeit()"
   ]
  },
  {
   "cell_type": "markdown",
   "metadata": {},
   "source": [
    "#### Complexité : \n",
    "polynomiale d'ordre 1\n",
    "#### Précision :\n",
    "0.000001\n",
    "#### Délais d'éxecution : \n",
    "18.6 ns"
   ]
  },
  {
   "cell_type": "code",
   "execution_count": 5,
   "metadata": {
    "collapsed": true
   },
   "outputs": [],
   "source": [
    "#algo optimisé de l'Exercice 2 sous question 5\n",
    "def algo2_5() : \n",
    "    s=0\n",
    "    t=1/3-1/5\n",
    "    i=0\n",
    "    while abs(t)> 10**(-6) :\n",
    "        s = s + t \n",
    "        i = i + 1\n",
    "        t = 2 /((4*i+1)*(4*i+3))   \n",
    "    return t"
   ]
  },
  {
   "cell_type": "code",
   "execution_count": 6,
   "metadata": {},
   "outputs": [
    {
     "name": "stdout",
     "output_type": "stream",
     "text": [
      "9.946670923841822e-07\n",
      "10000000 loops, best of 3: 19.6 ns per loop\n"
     ]
    }
   ],
   "source": [
    "print(algo2_5())\n",
    "%timeit()"
   ]
  },
  {
   "cell_type": "markdown",
   "metadata": {},
   "source": [
    "#### Complexité : \n",
    "polynomiale d'ordre 1\n",
    "#### Précision :\n",
    "0.000001\n",
    "#### Délais d'éxecution : \n",
    "19.6 ns"
   ]
  },
  {
   "cell_type": "code",
   "execution_count": 1,
   "metadata": {
    "collapsed": true
   },
   "outputs": [],
   "source": [
    "#algo de l'exercice 3 sous question 2\n",
    "def algo3_2() :\n",
    "    p=0.000001\n",
    "    f=4/3\n",
    "    fp=1\n",
    "    i=1\n",
    "    while abs(fp-f) > p :\n",
    "        p= p*f\n",
    "        i=i+1\n",
    "        fp=f\n",
    "        f= 4*i*i/(2*i-1)*(2*i+1)\n",
    "    return f"
   ]
  },
  {
   "cell_type": "code",
   "execution_count": 2,
   "metadata": {},
   "outputs": [
    {
     "name": "stdout",
     "output_type": "stream",
     "text": [
      "226.15384615384616\n",
      "100000000 loops, best of 3: 19.4 ns per loop\n"
     ]
    }
   ],
   "source": [
    "print(algo3_2())\n",
    "%timeit()"
   ]
  },
  {
   "cell_type": "markdown",
   "metadata": {},
   "source": [
    "#### Complexité : \n",
    "polynomiale d'ordre 1\n",
    "#### Précision :\n",
    "0.000001\n",
    "#### Délais d'éxecution : \n",
    "19.4 ns"
   ]
  },
  {
   "cell_type": "code",
   "execution_count": 19,
   "metadata": {
    "collapsed": true
   },
   "outputs": [],
   "source": [
    "from math import cos, pi"
   ]
  },
  {
   "cell_type": "code",
   "execution_count": 22,
   "metadata": {
    "collapsed": true
   },
   "outputs": [],
   "source": [
    "#algo de l'exercice 4 nous avons généralisé la suite en\n",
    "def algo4():\n",
    "    p=p=0.000001\n",
    "    k=2\n",
    "    t=1\n",
    "    s=0\n",
    "    while abs(s)>p:\n",
    "        s=s+t\n",
    "        t=t*cos(pi/2)^k\n",
    "    return t"
   ]
  },
  {
   "cell_type": "code",
   "execution_count": 23,
   "metadata": {},
   "outputs": [
    {
     "name": "stdout",
     "output_type": "stream",
     "text": [
      "1\n",
      "100000000 loops, best of 3: 18.9 ns per loop\n"
     ]
    }
   ],
   "source": [
    "print(algo4())\n",
    "%timeit()"
   ]
  },
  {
   "cell_type": "markdown",
   "metadata": {},
   "source": [
    "#### Complexité : \n",
    "polynomiale d'ordre 1\n",
    "#### Précision :\n",
    "0.000001\n",
    "#### Délais d'éxecution : \n",
    "18.9 ns"
   ]
  }
 ],
 "metadata": {
  "kernelspec": {
   "display_name": "Python 3",
   "language": "python",
   "name": "python3"
  },
  "language_info": {
   "codemirror_mode": {
    "name": "ipython",
    "version": 3
   },
   "file_extension": ".py",
   "mimetype": "text/x-python",
   "name": "python",
   "nbconvert_exporter": "python",
   "pygments_lexer": "ipython3",
   "version": "3.6.1"
  }
 },
 "nbformat": 4,
 "nbformat_minor": 2
}
