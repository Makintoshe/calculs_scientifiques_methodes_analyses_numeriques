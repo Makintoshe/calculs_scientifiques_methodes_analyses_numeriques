{
 "cells": [
  {
   "cell_type": "markdown",
   "metadata": {},
   "source": [
    "# TP sur les méthodes d'interpolation numérique"
   ]
  },
  {
   "attachments": {
    "image.png": {
     "image/png": "[encoded data removed]"
    }
   },
   "cell_type": "markdown",
   "metadata": {},
   "source": [
    "Dans cette partie, on nous donne un nombre fini (n+1) points du plan et on nous demande de construire une courbe passant par ces points. En effet, nous l'aurons compris qu'à l'inverse du principe des moindres carrés, il ets question de mettre en ouevre une courbe passant forcément par ces points là. Ces points, perçu sous un angle pratique, nous les appelons des abscisses d'une fonction arbitraire f tel que définit dans le cours. En suite, on cherchera à remplacer cette fonction par une fonction plus simple noté g et qui permettra d'estimer f sur des abscisses différentes faisant allusionn à une sorte de données expérimentales, pour lesquelles nous viserons à obtenir empiriquement une loi de distribution lorsque les nombres trouvés seront important.\n",
    "\n",
    "En plus simple et de façon plus intéressante, je dirai que, étant donné plusieurs fonctions que nous connaissons et que nous manipulons très souvent, dont les fonctions trigonométriques par excellence que nous définissons dans le domaine de l'analyse mathématique (cos, sin, log, exp, etc.), ne sont en réalité pas connues de manière exactes en tout point x appartenant à R. c'est pourquoi la plus part des algorithmes de calculs les remplacent par des fonctions que nous sommes à mesure de calculer grâce à l'uilisation des polynomes.\n",
    "\n",
    "![image.png](attachment:image.png)"
   ]
  },
  {
   "attachments": {},
   "cell_type": "markdown",
   "metadata": {},
   "source": [
    "## 1) La méthode d'interpolation de Lagrange"
   ]
  },
  {
   "cell_type": "markdown",
   "metadata": {},
   "source": [
    "On vellei d'abord à ce que f appartienne à $$  C^{0}([a,b],R)$$ et, $$x_{0},x_{1},...,x_{n}$$ appartiennent à $$ [a,b] n+1$$ points distincts avec n>=0 entier positifs. On cherche ensuite à construire le polynome P_{n} de degré inférieur ou égale à n solution tel que la formule de Lagrange se présente comme suite : $$P_{n}(x_{i})=\\sum_{i=0}^{n}f(x_{i})L_{i}(x)$$ avec $$L_{i}=\\prod_{j=0_{j<>i}}^{n}\\frac{x-x_{j}}{x_{i}-x_{j}}$$ et i=0, 1, ..., n\n",
    "par conséquent nous allons construire :  $$P_{n}(x_{i})=\\sum_{i=0}^{n}(f(x_{i})(\\prod_{j=0_{j<>i}}^{n}\\frac{x-x_{j}}{x_{i}-x_{j}}))$$"
   ]
  },
  {
   "cell_type": "markdown",
   "metadata": {},
   "source": [
    "Nous allons alors essayer de determiner le polynome P en partant des 3 points suivants : (-1;0,5);(0,1) et (1;-1)."
   ]
  },
  {
   "cell_type": "code",
   "execution_count": 74,
   "metadata": {},
   "outputs": [],
   "source": [
    "import matplotlib.pylab as plt\n",
    "%matplotlib inline\n",
    "import numpy as np\n",
    "\n",
    "def lagrange(x_cherche,x,y):\n",
    "    x_donne=np.array(x)\n",
    "    y=np.array(y)    \n",
    "    p=0\n",
    "    n=len(x_donne)\n",
    "    L=[1 for i in range(n)]\n",
    "    for i in range(n):\n",
    "        for j in range(n):\n",
    "            if j!=i:\n",
    "                L[i]*=(x_cherche-x_donne[j])/(x_donne[i]-x_donne[j])\n",
    "        p += y[i]*L[i]\n",
    "    return p"
   ]
  },
  {
   "cell_type": "code",
   "execution_count": 75,
   "metadata": {},
   "outputs": [
    {
     "name": "stdout",
     "output_type": "stream",
     "text": [
      "pour x =0, Pn(X)=1.0\n",
      "pour x =1, Pn(X)=-1.0\n",
      "pour x =2, Pn(X)=-5.5\n",
      "pour x =3, Pn(X)=-12.5\n",
      "pour x =4, Pn(X)=-22.0\n"
     ]
    },
    {
     "data": {
      "image/png": "[encoded data removed]",
      "text/plain": [
       "<matplotlib.figure.Figure at 0x13dbf080dd8>"
      ]
     },
     "metadata": {},
     "output_type": "display_data"
    }
   ],
   "source": [
    "x=[-1,0,1]\n",
    "y=[0.5,1,-1]\n",
    "courbe = [] #notre fameuse courbe!\n",
    "#nous calculons ici le polynome de langrage \n",
    "#en plusieurs point, de façon séparée\n",
    "#autrement, quand x=0,1,2,...\n",
    "for t in range(0,5) :\n",
    "    l=lagrange(t,x,y)\n",
    "    courbe.append(l)\n",
    "    print(\"pour x =\"+str(t)+\", Pn(X)=\"+str(l))\n",
    "plt.plot(courbe,'o:m')\n",
    "plt.show()"
   ]
  },
  {
   "cell_type": "markdown",
   "metadata": {},
   "source": [
    "En effet si nous comparrons avec ce que nous avons trouvé au cours c'est à dire qu'avec x=0 et le polynome  \n",
    "$$P_{2}(X)=\\frac{1}{4}(-5(x^2)-3x+4)$$ on $$P_{2}(0)=1$$"
   ]
  },
  {
   "cell_type": "markdown",
   "metadata": {},
   "source": [
    "Poitn de vue personnel : Cette méthode semble moins algorithmique, il vous suffit juste de remarqur son évaluation qui requiert trop d'opérations élémentaires."
   ]
  },
  {
   "cell_type": "markdown",
   "metadata": {},
   "source": [
    "## 2) La méthode d'interpolation barycentrique"
   ]
  },
  {
   "cell_type": "code",
   "execution_count": 107,
   "metadata": {
    "collapsed": true
   },
   "outputs": [],
   "source": [
    "def points(x):\n",
    "    w=np.ones(np.size(x))\n",
    "    n=np.size(x)\n",
    "    for i in range(n):\n",
    "        for j in range(n):\n",
    "            if i!=j:\n",
    "                w[i]=(x[i]-x[j])*w[i]\n",
    "    return 1./w"
   ]
  },
  {
   "cell_type": "code",
   "execution_count": 108,
   "metadata": {},
   "outputs": [],
   "source": [
    "def barycentrique(x,y,xx):\n",
    "    n=np.size(x)\n",
    "    m=np.size(xx)\n",
    "    nu=np.zeros(m)\n",
    "    de=np.zeros(m)\n",
    "    v=(0!=de)\n",
    "    point=points(x)\n",
    "    for i in range(n):\n",
    "        dx=xx-x[i]\n",
    "        v=v+(dx==0)\n",
    "        dx[dx==0]=1\n",
    "        nu=nu+y[i]*point[i]/dx\n",
    "        de=de+point[i]/dx\n",
    "    s=nu/de\n",
    "    for j in np.transpose(np.nonzero(v)):\n",
    "        s[j]=y[np.transpose(np.nonzero((x-xx[j])==0))]\n",
    "    return s"
   ]
  },
  {
   "cell_type": "code",
   "execution_count": 115,
   "metadata": {},
   "outputs": [
    {
     "name": "stdout",
     "output_type": "stream",
     "text": [
      "[-0.83907153 -0.9043279  -0.95331525 -0.9851523  -0.99926629 -0.99540331\n",
      " -0.97363285 -0.93434657 -0.87825124 -0.80635602 -0.71995431 -0.62060051\n",
      " -0.51008199 -0.39038701 -0.2636689  -0.13220735  0.00163264  0.13544326\n",
      "  0.26681723  0.39339111  0.51288782  0.62315759  0.72221665  0.8082829\n",
      "  0.87980801  0.93550522  0.97437254  0.99571072  0.9991359   0.98458646\n",
      "  0.95232413  0.90292933  0.83729068  0.75658902  0.6622762   0.55604892\n",
      "  0.43981822  0.31567512  0.18585296  0.05268728 -0.08142625 -0.21407491\n",
      " -0.34287232 -0.46550141 -0.57975604 -0.68358077 -0.77510776 -0.85269042\n",
      " -0.91493305 -0.96071587 -0.98921524 -0.99991847 -0.99263299 -0.96748987\n",
      " -0.92494145 -0.86575317 -0.79098984 -0.70199647 -0.60037407 -0.48795083\n",
      " -0.36674927 -0.23894983 -0.10685164  0.02716882  0.16070052  0.29134118\n",
      "  0.41674057  0.53464272  0.64292656  0.73964404  0.8230552   0.89165946\n",
      "  0.9442226   0.97979902  0.99774869  0.99774869  0.97979902  0.9442226\n",
      "  0.89165946  0.8230552   0.73964404  0.64292656  0.53464272  0.41674057\n",
      "  0.29134118  0.16070052  0.02716882 -0.10685164 -0.23894983 -0.36674927\n",
      " -0.48795083 -0.60037407 -0.70199647 -0.79098984 -0.86575317 -0.92494145\n",
      " -0.96748987 -0.99263299 -0.99991847 -0.98921524 -0.96071587 -0.91493305\n",
      " -0.85269042 -0.77510776 -0.68358077 -0.57975604 -0.46550141 -0.34287232\n",
      " -0.21407491 -0.08142625  0.05268728  0.18585296  0.31567512  0.43981822\n",
      "  0.55604892  0.6622762   0.75658902  0.83729068  0.90292933  0.95232413\n",
      "  0.98458646  0.9991359   0.99571072  0.97437254  0.93550522  0.87980801\n",
      "  0.8082829   0.72221665  0.62315759  0.51288782  0.39339111  0.26681723\n",
      "  0.13544326  0.00163264 -0.13220735 -0.2636689  -0.39038701 -0.51008199\n",
      " -0.62060051 -0.71995431 -0.80635602 -0.87825124 -0.93434657 -0.97363285\n",
      " -0.99540331 -0.99926629 -0.9851523  -0.95331525 -0.9043279  -0.83907153]\n"
     ]
    },
    {
     "data": {
      "text/plain": [
       "[<matplotlib.lines.Line2D at 0x13dbf54ebe0>]"
      ]
     },
     "execution_count": 115,
     "metadata": {},
     "output_type": "execute_result"
    },
    {
     "data": {
      "image/png": "[encoded data removed]",
      "text/plain": [
       "<matplotlib.figure.Figure at 0x13dbf5376d8>"
      ]
     },
     "metadata": {},
     "output_type": "display_data"
    }
   ],
   "source": [
    "xx=np.linspace(-10,10,150)\n",
    "x=np.linspace(-10,10,150)\n",
    "b=barycentrique(x,np.cos(x),xx)\n",
    "print(b)\n",
    "plt.plot(xx,b,'g')"
   ]
  },
  {
   "cell_type": "markdown",
   "metadata": {},
   "source": [
    "## 3) Méthode d'interpolation d'Aitken"
   ]
  },
  {
   "cell_type": "markdown",
   "metadata": {},
   "source": [
    "$$P_{i+1,j}(\\alpha)=\\frac{(x_{i+j+1}-\\alpha)P_{i,j}(\\alpha)-(x_j-\\alpha)P_{i,j+1}(\\alpha)}{x_{i+j+1}-x_j}$$"
   ]
  },
  {
   "cell_type": "code",
   "execution_count": 87,
   "metadata": {
    "collapsed": true
   },
   "outputs": [],
   "source": [
    "def P(i,j,alpha,points):\n",
    "    print(i,j)\n",
    "    x = [p[0] for p in points]\n",
    "    y = [p[1] for p in points]\n",
    "    if i==0:\n",
    "        return y[j]\n",
    "    else:\n",
    "        return ((x[i+j]-alpha)*P(i-1,j,alpha,points)-(x[j]-alpha)*P(i-1,j+1,alpha,points))/(x[i+j]-x[j])"
   ]
  },
  {
   "cell_type": "code",
   "execution_count": 117,
   "metadata": {},
   "outputs": [
    {
     "name": "stdout",
     "output_type": "stream",
     "text": [
      "2 0\n",
      "1 0\n",
      "0 0\n",
      "0 1\n",
      "1 1\n",
      "0 1\n",
      "0 2\n"
     ]
    },
    {
     "data": {
      "text/plain": [
       "-22.0"
      ]
     },
     "execution_count": 117,
     "metadata": {},
     "output_type": "execute_result"
    }
   ],
   "source": [
    "points = [(-1,0.5),(0,1),(1,-1)]\n",
    "P(2,0,4,points)"
   ]
  },
  {
   "cell_type": "markdown",
   "metadata": {},
   "source": [
    "Définition de la fonction qui calcule par récursion"
   ]
  },
  {
   "cell_type": "code",
   "execution_count": 89,
   "metadata": {
    "collapsed": true
   },
   "outputs": [],
   "source": [
    "def P_opt(i,j,alpha,points):\n",
    "    if not (i,j) in Pmem: # Elle n'a pas été calculée\n",
    "        x = [p[0] for p in points]\n",
    "        y = [p[1] for p in points]\n",
    "        # On la calcule, on la mémorise\n",
    "        print (i,j)\n",
    "        if i==0:\n",
    "            Pmem[(i,j)]=y[j]\n",
    "        else:\n",
    "            Pmem[(i,j)]=((x[i+j]-alpha)*P_opt(i-1,j,alpha,points)-(x[j]-alpha)*P_opt(i-1,j+1,alpha,points))/(x[i+j]-x[j])\n",
    "            \n",
    "    return Pmem[(i,j)] # On la renvoie"
   ]
  },
  {
   "cell_type": "markdown",
   "metadata": {},
   "source": [
    "On définit les points\n",
    "\n",
    "On efface la structure de mémorisation\n",
    "\n",
    "On appelle la fonction récursive"
   ]
  },
  {
   "cell_type": "code",
   "execution_count": 118,
   "metadata": {},
   "outputs": [
    {
     "name": "stdout",
     "output_type": "stream",
     "text": [
      "2 0\n",
      "1 0\n",
      "0 0\n",
      "0 1\n",
      "1 1\n",
      "0 2\n"
     ]
    },
    {
     "data": {
      "text/plain": [
       "-2.9375"
      ]
     },
     "execution_count": 118,
     "metadata": {},
     "output_type": "execute_result"
    }
   ],
   "source": [
    "points = [(-1,0.5),(0,1),(1,-1)]\n",
    "Pmem = dict()\n",
    "P_opt(2,0,1.5,points)"
   ]
  },
  {
   "cell_type": "markdown",
   "metadata": {},
   "source": [
    "On affiche la structure de mémorisation\n",
    "\n",
    "Les éléments à la fin de chaque ligne affiche la valeur de l'interpolation, sur le dernier points, puis sur les deux derniers points, puis sur les 3 derniers points, puis sur les 4"
   ]
  },
  {
   "cell_type": "code",
   "execution_count": 96,
   "metadata": {},
   "outputs": [
    {
     "name": "stdout",
     "output_type": "stream",
     "text": [
      "[-1]\n",
      "[1, -2.0]\n",
      "[0.5, 1.75, -2.9375]\n",
      "10000000 loops, best of 3: 18.7 ns per loop\n"
     ]
    }
   ],
   "source": [
    "for j in range(len(points),0,-1):\n",
    "    print([Pmem[i,j-1] for i in range(len(points)-j+1)])\n",
    "%timeit()"
   ]
  }
 ],
 "metadata": {
  "kernelspec": {
   "display_name": "Python 3",
   "language": "python",
   "name": "python3"
  },
  "language_info": {
   "codemirror_mode": {
    "name": "ipython",
    "version": 3
   },
   "file_extension": ".py",
   "mimetype": "text/x-python",
   "name": "python",
   "nbconvert_exporter": "python",
   "pygments_lexer": "ipython3",
   "version": "3.6.1"
  }
 },
 "nbformat": 4,
 "nbformat_minor": 4
}
